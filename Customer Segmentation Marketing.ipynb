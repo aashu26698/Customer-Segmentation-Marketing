{
 "cells": [
  {
   "cell_type": "markdown",
   "id": "6c06450f",
   "metadata": {},
   "source": [
    "# Customer Segmentation Analysis Part 1"
   ]
  },
  {
   "cell_type": "markdown",
   "id": "d399c843",
   "metadata": {},
   "source": [
    "## Q1. What is Customer Segmentation and why is it important from marketing perspective?"
   ]
  },
  {
   "cell_type": "markdown",
   "id": "a4b80af2",
   "metadata": {},
   "source": [
    "## A1. Customer segmentation is the practise of dividing your consumers into groups based on similar criteria such as demographics or habits in order to better advertise to them. These consumer segmentation groups may also be used to kick off conversations about creating marketing personas."
   ]
  },
  {
   "cell_type": "markdown",
   "id": "a46b42d7",
   "metadata": {},
   "source": [
    "## Import Libraries and Data"
   ]
  },
  {
   "cell_type": "code",
   "execution_count": 1,
   "id": "7ff59f79",
   "metadata": {},
   "outputs": [],
   "source": [
    "# Import the appropriate Libraries\n",
    "\n",
    "import pandas as pd # for dataframes\n",
    "import matplotlib.pyplot as plt # for plotting graphs\n",
    "import seaborn as sns # for plotting graphs\n",
    "import datetime as dt\n",
    "import numpy as np\n",
    "import chardet\n",
    "import warnings\n",
    "warnings.filterwarnings(\"ignore\")"
   ]
  },
  {
   "cell_type": "code",
   "execution_count": 2,
   "id": "088aac7d",
   "metadata": {},
   "outputs": [],
   "source": [
    "# with open('Sales_data.csv', 'rb') as file: print(chardet.detect(file.read()))"
   ]
  },
  {
   "cell_type": "code",
   "execution_count": 3,
   "id": "854ca612",
   "metadata": {},
   "outputs": [],
   "source": [
    "# Load the dataset\n",
    "\n",
    "data = pd.read_csv('Sales_data.csv', encoding= 'ISO-8859-1')\n",
    "\n",
    "# encoding='latin-1'"
   ]
  },
  {
   "cell_type": "markdown",
   "id": "bd77ce0f",
   "metadata": {},
   "source": [
    "## Data Exploration"
   ]
  },
  {
   "cell_type": "code",
   "execution_count": 4,
   "id": "e0cd89be",
   "metadata": {},
   "outputs": [
    {
     "name": "stdout",
     "output_type": "stream",
     "text": [
      "<class 'pandas.core.frame.DataFrame'>\n",
      "RangeIndex: 541909 entries, 0 to 541908\n",
      "Data columns (total 8 columns):\n",
      " #   Column       Non-Null Count   Dtype  \n",
      "---  ------       --------------   -----  \n",
      " 0   InvoiceNo    541909 non-null  object \n",
      " 1   StockCode    541909 non-null  object \n",
      " 2   Description  540455 non-null  object \n",
      " 3   Quantity     541909 non-null  int64  \n",
      " 4   InvoiceDate  541909 non-null  object \n",
      " 5   UnitPrice    541909 non-null  float64\n",
      " 6   CustomerID   406829 non-null  float64\n",
      " 7   Country      541909 non-null  object \n",
      "dtypes: float64(2), int64(1), object(5)\n",
      "memory usage: 33.1+ MB\n"
     ]
    }
   ],
   "source": [
    "data.info()"
   ]
  },
  {
   "cell_type": "code",
   "execution_count": 5,
   "id": "0a42b4ad",
   "metadata": {},
   "outputs": [
    {
     "data": {
      "text/plain": [
       "(541909, 8)"
      ]
     },
     "execution_count": 5,
     "metadata": {},
     "output_type": "execute_result"
    }
   ],
   "source": [
    "data.shape"
   ]
  },
  {
   "cell_type": "code",
   "execution_count": 6,
   "id": "0f68bc3d",
   "metadata": {},
   "outputs": [
    {
     "data": {
      "text/plain": [
       "WHITE HANGING HEART T-LIGHT HOLDER     2369\n",
       "REGENCY CAKESTAND 3 TIER               2200\n",
       "JUMBO BAG RED RETROSPOT                2159\n",
       "PARTY BUNTING                          1727\n",
       "LUNCH BAG RED RETROSPOT                1638\n",
       "                                       ... \n",
       "Missing                                   1\n",
       "historic computer difference?....se       1\n",
       "DUSTY PINK CHRISTMAS TREE 30CM            1\n",
       "WRAP BLUE RUSSIAN FOLKART                 1\n",
       "PINK BERTIE MOBILE PHONE CHARM            1\n",
       "Name: Description, Length: 4223, dtype: int64"
      ]
     },
     "execution_count": 6,
     "metadata": {},
     "output_type": "execute_result"
    }
   ],
   "source": [
    "data.Description.value_counts()"
   ]
  },
  {
   "cell_type": "markdown",
   "id": "f422e1ca",
   "metadata": {},
   "source": [
    "## Data Preprocessing\n",
    "\n",
    "- Remove Null Values\n",
    "- Remove Duplicate Values"
   ]
  },
  {
   "cell_type": "code",
   "execution_count": 7,
   "id": "e6a1f48b",
   "metadata": {},
   "outputs": [],
   "source": [
    "# Take all the rows where customer ID not equal to blank\n",
    "\n",
    "data = data[pd.notnull(data['CustomerID'])]"
   ]
  },
  {
   "cell_type": "code",
   "execution_count": 8,
   "id": "c8b4c4d7",
   "metadata": {},
   "outputs": [
    {
     "data": {
      "text/plain": [
       "(406829, 8)"
      ]
     },
     "execution_count": 8,
     "metadata": {},
     "output_type": "execute_result"
    }
   ],
   "source": [
    "data.shape"
   ]
  },
  {
   "cell_type": "code",
   "execution_count": 9,
   "id": "3bab18e6",
   "metadata": {},
   "outputs": [
    {
     "name": "stdout",
     "output_type": "stream",
     "text": [
      "<class 'pandas.core.frame.DataFrame'>\n",
      "Int64Index: 406829 entries, 0 to 541908\n",
      "Data columns (total 8 columns):\n",
      " #   Column       Non-Null Count   Dtype  \n",
      "---  ------       --------------   -----  \n",
      " 0   InvoiceNo    406829 non-null  object \n",
      " 1   StockCode    406829 non-null  object \n",
      " 2   Description  406829 non-null  object \n",
      " 3   Quantity     406829 non-null  int64  \n",
      " 4   InvoiceDate  406829 non-null  object \n",
      " 5   UnitPrice    406829 non-null  float64\n",
      " 6   CustomerID   406829 non-null  float64\n",
      " 7   Country      406829 non-null  object \n",
      "dtypes: float64(2), int64(1), object(5)\n",
      "memory usage: 27.9+ MB\n"
     ]
    }
   ],
   "source": [
    "data.info()"
   ]
  },
  {
   "cell_type": "code",
   "execution_count": 10,
   "id": "eb2bd907",
   "metadata": {},
   "outputs": [
    {
     "data": {
      "text/html": [
       "<div>\n",
       "<style scoped>\n",
       "    .dataframe tbody tr th:only-of-type {\n",
       "        vertical-align: middle;\n",
       "    }\n",
       "\n",
       "    .dataframe tbody tr th {\n",
       "        vertical-align: top;\n",
       "    }\n",
       "\n",
       "    .dataframe thead th {\n",
       "        text-align: right;\n",
       "    }\n",
       "</style>\n",
       "<table border=\"1\" class=\"dataframe\">\n",
       "  <thead>\n",
       "    <tr style=\"text-align: right;\">\n",
       "      <th></th>\n",
       "      <th>InvoiceNo</th>\n",
       "      <th>StockCode</th>\n",
       "      <th>Description</th>\n",
       "      <th>Quantity</th>\n",
       "      <th>InvoiceDate</th>\n",
       "      <th>UnitPrice</th>\n",
       "      <th>CustomerID</th>\n",
       "      <th>Country</th>\n",
       "    </tr>\n",
       "  </thead>\n",
       "  <tbody>\n",
       "    <tr>\n",
       "      <th>0</th>\n",
       "      <td>536365</td>\n",
       "      <td>85123A</td>\n",
       "      <td>WHITE HANGING HEART T-LIGHT HOLDER</td>\n",
       "      <td>6</td>\n",
       "      <td>12/1/2010 8:26</td>\n",
       "      <td>2.55</td>\n",
       "      <td>17850.0</td>\n",
       "      <td>United Kingdom</td>\n",
       "    </tr>\n",
       "    <tr>\n",
       "      <th>1</th>\n",
       "      <td>536365</td>\n",
       "      <td>71053</td>\n",
       "      <td>WHITE METAL LANTERN</td>\n",
       "      <td>6</td>\n",
       "      <td>12/1/2010 8:26</td>\n",
       "      <td>3.39</td>\n",
       "      <td>17850.0</td>\n",
       "      <td>United Kingdom</td>\n",
       "    </tr>\n",
       "    <tr>\n",
       "      <th>2</th>\n",
       "      <td>536365</td>\n",
       "      <td>84406B</td>\n",
       "      <td>CREAM CUPID HEARTS COAT HANGER</td>\n",
       "      <td>8</td>\n",
       "      <td>12/1/2010 8:26</td>\n",
       "      <td>2.75</td>\n",
       "      <td>17850.0</td>\n",
       "      <td>United Kingdom</td>\n",
       "    </tr>\n",
       "    <tr>\n",
       "      <th>3</th>\n",
       "      <td>536365</td>\n",
       "      <td>84029G</td>\n",
       "      <td>KNITTED UNION FLAG HOT WATER BOTTLE</td>\n",
       "      <td>6</td>\n",
       "      <td>12/1/2010 8:26</td>\n",
       "      <td>3.39</td>\n",
       "      <td>17850.0</td>\n",
       "      <td>United Kingdom</td>\n",
       "    </tr>\n",
       "    <tr>\n",
       "      <th>4</th>\n",
       "      <td>536365</td>\n",
       "      <td>84029E</td>\n",
       "      <td>RED WOOLLY HOTTIE WHITE HEART.</td>\n",
       "      <td>6</td>\n",
       "      <td>12/1/2010 8:26</td>\n",
       "      <td>3.39</td>\n",
       "      <td>17850.0</td>\n",
       "      <td>United Kingdom</td>\n",
       "    </tr>\n",
       "  </tbody>\n",
       "</table>\n",
       "</div>"
      ],
      "text/plain": [
       "  InvoiceNo StockCode                          Description  Quantity  \\\n",
       "0    536365    85123A   WHITE HANGING HEART T-LIGHT HOLDER         6   \n",
       "1    536365     71053                  WHITE METAL LANTERN         6   \n",
       "2    536365    84406B       CREAM CUPID HEARTS COAT HANGER         8   \n",
       "3    536365    84029G  KNITTED UNION FLAG HOT WATER BOTTLE         6   \n",
       "4    536365    84029E       RED WOOLLY HOTTIE WHITE HEART.         6   \n",
       "\n",
       "      InvoiceDate  UnitPrice  CustomerID         Country  \n",
       "0  12/1/2010 8:26       2.55     17850.0  United Kingdom  \n",
       "1  12/1/2010 8:26       3.39     17850.0  United Kingdom  \n",
       "2  12/1/2010 8:26       2.75     17850.0  United Kingdom  \n",
       "3  12/1/2010 8:26       3.39     17850.0  United Kingdom  \n",
       "4  12/1/2010 8:26       3.39     17850.0  United Kingdom  "
      ]
     },
     "execution_count": 10,
     "metadata": {},
     "output_type": "execute_result"
    }
   ],
   "source": [
    "data.head()"
   ]
  },
  {
   "cell_type": "code",
   "execution_count": 11,
   "id": "25f15cac",
   "metadata": {},
   "outputs": [],
   "source": [
    "# Removing duplicates\n",
    "\n",
    "filtered_data = data[['Country','CustomerID']].drop_duplicates()"
   ]
  },
  {
   "cell_type": "code",
   "execution_count": 12,
   "id": "e219a069",
   "metadata": {},
   "outputs": [
    {
     "data": {
      "text/plain": [
       "(4380, 2)"
      ]
     },
     "execution_count": 12,
     "metadata": {},
     "output_type": "execute_result"
    }
   ],
   "source": [
    "filtered_data.shape"
   ]
  },
  {
   "cell_type": "code",
   "execution_count": 13,
   "id": "d151c3ca",
   "metadata": {},
   "outputs": [
    {
     "data": {
      "text/html": [
       "<div>\n",
       "<style scoped>\n",
       "    .dataframe tbody tr th:only-of-type {\n",
       "        vertical-align: middle;\n",
       "    }\n",
       "\n",
       "    .dataframe tbody tr th {\n",
       "        vertical-align: top;\n",
       "    }\n",
       "\n",
       "    .dataframe thead th {\n",
       "        text-align: right;\n",
       "    }\n",
       "</style>\n",
       "<table border=\"1\" class=\"dataframe\">\n",
       "  <thead>\n",
       "    <tr style=\"text-align: right;\">\n",
       "      <th></th>\n",
       "      <th>Country</th>\n",
       "      <th>CustomerID</th>\n",
       "    </tr>\n",
       "  </thead>\n",
       "  <tbody>\n",
       "    <tr>\n",
       "      <th>0</th>\n",
       "      <td>United Kingdom</td>\n",
       "      <td>17850.0</td>\n",
       "    </tr>\n",
       "    <tr>\n",
       "      <th>9</th>\n",
       "      <td>United Kingdom</td>\n",
       "      <td>13047.0</td>\n",
       "    </tr>\n",
       "    <tr>\n",
       "      <th>26</th>\n",
       "      <td>France</td>\n",
       "      <td>12583.0</td>\n",
       "    </tr>\n",
       "    <tr>\n",
       "      <th>46</th>\n",
       "      <td>United Kingdom</td>\n",
       "      <td>13748.0</td>\n",
       "    </tr>\n",
       "    <tr>\n",
       "      <th>65</th>\n",
       "      <td>United Kingdom</td>\n",
       "      <td>15100.0</td>\n",
       "    </tr>\n",
       "  </tbody>\n",
       "</table>\n",
       "</div>"
      ],
      "text/plain": [
       "           Country  CustomerID\n",
       "0   United Kingdom     17850.0\n",
       "9   United Kingdom     13047.0\n",
       "26          France     12583.0\n",
       "46  United Kingdom     13748.0\n",
       "65  United Kingdom     15100.0"
      ]
     },
     "execution_count": 13,
     "metadata": {},
     "output_type": "execute_result"
    }
   ],
   "source": [
    "filtered_data.head()"
   ]
  },
  {
   "cell_type": "code",
   "execution_count": 14,
   "id": "c6821b6d",
   "metadata": {},
   "outputs": [
    {
     "name": "stdout",
     "output_type": "stream",
     "text": [
      "<class 'pandas.core.frame.DataFrame'>\n",
      "Int64Index: 4380 entries, 0 to 541768\n",
      "Data columns (total 2 columns):\n",
      " #   Column      Non-Null Count  Dtype  \n",
      "---  ------      --------------  -----  \n",
      " 0   Country     4380 non-null   object \n",
      " 1   CustomerID  4380 non-null   float64\n",
      "dtypes: float64(1), object(1)\n",
      "memory usage: 102.7+ KB\n"
     ]
    }
   ],
   "source": [
    "filtered_data.info()"
   ]
  },
  {
   "cell_type": "markdown",
   "id": "140d7f92",
   "metadata": {},
   "source": [
    "## Data Insights\n",
    "\n",
    "- Top 10 country customer data"
   ]
  },
  {
   "cell_type": "code",
   "execution_count": 15,
   "id": "11308f6f",
   "metadata": {},
   "outputs": [
    {
     "data": {
      "text/plain": [
       "United Kingdom          361878\n",
       "Germany                   9495\n",
       "France                    8491\n",
       "EIRE                      7485\n",
       "Spain                     2533\n",
       "Netherlands               2371\n",
       "Belgium                   2069\n",
       "Switzerland               1877\n",
       "Portugal                  1480\n",
       "Australia                 1259\n",
       "Norway                    1086\n",
       "Italy                      803\n",
       "Channel Islands            758\n",
       "Finland                    695\n",
       "Cyprus                     622\n",
       "Sweden                     462\n",
       "Austria                    401\n",
       "Denmark                    389\n",
       "Japan                      358\n",
       "Poland                     341\n",
       "USA                        291\n",
       "Israel                     250\n",
       "Unspecified                244\n",
       "Singapore                  229\n",
       "Iceland                    182\n",
       "Canada                     151\n",
       "Greece                     146\n",
       "Malta                      127\n",
       "United Arab Emirates        68\n",
       "European Community          61\n",
       "RSA                         58\n",
       "Lebanon                     45\n",
       "Lithuania                   35\n",
       "Brazil                      32\n",
       "Czech Republic              30\n",
       "Bahrain                     17\n",
       "Saudi Arabia                10\n",
       "Name: Country, dtype: int64"
      ]
     },
     "execution_count": 15,
     "metadata": {},
     "output_type": "execute_result"
    }
   ],
   "source": [
    "# Check the country wise distribution\n",
    "\n",
    "data.Country.value_counts()"
   ]
  },
  {
   "cell_type": "code",
   "execution_count": 16,
   "id": "daf988d5",
   "metadata": {},
   "outputs": [
    {
     "data": {
      "text/plain": [
       "United Kingdom    3950\n",
       "Germany             95\n",
       "France              87\n",
       "Spain               31\n",
       "Belgium             25\n",
       "Switzerland         21\n",
       "Portugal            19\n",
       "Italy               15\n",
       "Finland             12\n",
       "Austria             11\n",
       "Name: Country, dtype: int64"
      ]
     },
     "execution_count": 16,
     "metadata": {},
     "output_type": "execute_result"
    }
   ],
   "source": [
    "filtered_data.Country.value_counts()[:10]"
   ]
  },
  {
   "cell_type": "code",
   "execution_count": 17,
   "id": "588debca",
   "metadata": {},
   "outputs": [
    {
     "data": {
      "text/plain": [
       "<AxesSubplot:>"
      ]
     },
     "execution_count": 17,
     "metadata": {},
     "output_type": "execute_result"
    },
    {
     "data": {
      "image/png": "[encoded data removed]",
      "text/plain": [
       "<Figure size 432x288 with 1 Axes>"
      ]
     },
     "metadata": {
      "needs_background": "light"
     },
     "output_type": "display_data"
    }
   ],
   "source": [
    "# Plot the data\n",
    "\n",
    "filtered_data.Country.value_counts()[:10].plot(kind='bar')"
   ]
  },
  {
   "cell_type": "markdown",
   "id": "a7003dbc",
   "metadata": {},
   "source": [
    "## Q2. What do you observe?"
   ]
  },
  {
   "cell_type": "markdown",
   "id": "9315f64c",
   "metadata": {},
   "source": [
    "## A2. From the above plot we observe that United Kingdom is the country with maximum customers."
   ]
  },
  {
   "cell_type": "code",
   "execution_count": 18,
   "id": "f5f07493",
   "metadata": {},
   "outputs": [],
   "source": [
    "# Filter data by the top most country\n",
    "\n",
    "uk_data = data[data.Country=='United Kingdom']"
   ]
  },
  {
   "cell_type": "code",
   "execution_count": 19,
   "id": "6391c930",
   "metadata": {},
   "outputs": [
    {
     "data": {
      "text/html": [
       "<div>\n",
       "<style scoped>\n",
       "    .dataframe tbody tr th:only-of-type {\n",
       "        vertical-align: middle;\n",
       "    }\n",
       "\n",
       "    .dataframe tbody tr th {\n",
       "        vertical-align: top;\n",
       "    }\n",
       "\n",
       "    .dataframe thead th {\n",
       "        text-align: right;\n",
       "    }\n",
       "</style>\n",
       "<table border=\"1\" class=\"dataframe\">\n",
       "  <thead>\n",
       "    <tr style=\"text-align: right;\">\n",
       "      <th></th>\n",
       "      <th>Quantity</th>\n",
       "      <th>UnitPrice</th>\n",
       "      <th>CustomerID</th>\n",
       "    </tr>\n",
       "  </thead>\n",
       "  <tbody>\n",
       "    <tr>\n",
       "      <th>count</th>\n",
       "      <td>361878.000000</td>\n",
       "      <td>361878.000000</td>\n",
       "      <td>361878.000000</td>\n",
       "    </tr>\n",
       "    <tr>\n",
       "      <th>mean</th>\n",
       "      <td>11.077029</td>\n",
       "      <td>3.256007</td>\n",
       "      <td>15547.871368</td>\n",
       "    </tr>\n",
       "    <tr>\n",
       "      <th>std</th>\n",
       "      <td>263.129266</td>\n",
       "      <td>70.654731</td>\n",
       "      <td>1594.402590</td>\n",
       "    </tr>\n",
       "    <tr>\n",
       "      <th>min</th>\n",
       "      <td>-80995.000000</td>\n",
       "      <td>0.000000</td>\n",
       "      <td>12346.000000</td>\n",
       "    </tr>\n",
       "    <tr>\n",
       "      <th>25%</th>\n",
       "      <td>2.000000</td>\n",
       "      <td>1.250000</td>\n",
       "      <td>14194.000000</td>\n",
       "    </tr>\n",
       "    <tr>\n",
       "      <th>50%</th>\n",
       "      <td>4.000000</td>\n",
       "      <td>1.950000</td>\n",
       "      <td>15514.000000</td>\n",
       "    </tr>\n",
       "    <tr>\n",
       "      <th>75%</th>\n",
       "      <td>12.000000</td>\n",
       "      <td>3.750000</td>\n",
       "      <td>16931.000000</td>\n",
       "    </tr>\n",
       "    <tr>\n",
       "      <th>max</th>\n",
       "      <td>80995.000000</td>\n",
       "      <td>38970.000000</td>\n",
       "      <td>18287.000000</td>\n",
       "    </tr>\n",
       "  </tbody>\n",
       "</table>\n",
       "</div>"
      ],
      "text/plain": [
       "            Quantity      UnitPrice     CustomerID\n",
       "count  361878.000000  361878.000000  361878.000000\n",
       "mean       11.077029       3.256007   15547.871368\n",
       "std       263.129266      70.654731    1594.402590\n",
       "min    -80995.000000       0.000000   12346.000000\n",
       "25%         2.000000       1.250000   14194.000000\n",
       "50%         4.000000       1.950000   15514.000000\n",
       "75%        12.000000       3.750000   16931.000000\n",
       "max     80995.000000   38970.000000   18287.000000"
      ]
     },
     "execution_count": 19,
     "metadata": {},
     "output_type": "execute_result"
    }
   ],
   "source": [
    "uk_data.describe()"
   ]
  },
  {
   "cell_type": "markdown",
   "id": "169746c4",
   "metadata": {},
   "source": [
    "## Q3. What do you observe? Which column needs special attention?"
   ]
  },
  {
   "cell_type": "markdown",
   "id": "ef30e966",
   "metadata": {},
   "source": [
    "## A3. We see from the above output that the quantity column has negative values whereas unit price column has minimum value of '0', thus they need immediate attention."
   ]
  },
  {
   "cell_type": "code",
   "execution_count": 20,
   "id": "56e466e6",
   "metadata": {},
   "outputs": [],
   "source": [
    "uk_data = uk_data[(uk_data['Quantity'] > 0)]"
   ]
  },
  {
   "cell_type": "code",
   "execution_count": 21,
   "id": "3209fefb",
   "metadata": {},
   "outputs": [
    {
     "name": "stdout",
     "output_type": "stream",
     "text": [
      "<class 'pandas.core.frame.DataFrame'>\n",
      "Int64Index: 354345 entries, 0 to 541893\n",
      "Data columns (total 8 columns):\n",
      " #   Column       Non-Null Count   Dtype  \n",
      "---  ------       --------------   -----  \n",
      " 0   InvoiceNo    354345 non-null  object \n",
      " 1   StockCode    354345 non-null  object \n",
      " 2   Description  354345 non-null  object \n",
      " 3   Quantity     354345 non-null  int64  \n",
      " 4   InvoiceDate  354345 non-null  object \n",
      " 5   UnitPrice    354345 non-null  float64\n",
      " 6   CustomerID   354345 non-null  float64\n",
      " 7   Country      354345 non-null  object \n",
      "dtypes: float64(2), int64(1), object(5)\n",
      "memory usage: 24.3+ MB\n"
     ]
    }
   ],
   "source": [
    "uk_data.info()"
   ]
  },
  {
   "cell_type": "code",
   "execution_count": 22,
   "id": "c3965765",
   "metadata": {},
   "outputs": [
    {
     "data": {
      "text/html": [
       "<div>\n",
       "<style scoped>\n",
       "    .dataframe tbody tr th:only-of-type {\n",
       "        vertical-align: middle;\n",
       "    }\n",
       "\n",
       "    .dataframe tbody tr th {\n",
       "        vertical-align: top;\n",
       "    }\n",
       "\n",
       "    .dataframe thead th {\n",
       "        text-align: right;\n",
       "    }\n",
       "</style>\n",
       "<table border=\"1\" class=\"dataframe\">\n",
       "  <thead>\n",
       "    <tr style=\"text-align: right;\">\n",
       "      <th></th>\n",
       "      <th>InvoiceNo</th>\n",
       "      <th>StockCode</th>\n",
       "      <th>Description</th>\n",
       "      <th>Quantity</th>\n",
       "      <th>InvoiceDate</th>\n",
       "      <th>UnitPrice</th>\n",
       "      <th>CustomerID</th>\n",
       "      <th>Country</th>\n",
       "    </tr>\n",
       "  </thead>\n",
       "  <tbody>\n",
       "    <tr>\n",
       "      <th>0</th>\n",
       "      <td>536365</td>\n",
       "      <td>85123A</td>\n",
       "      <td>WHITE HANGING HEART T-LIGHT HOLDER</td>\n",
       "      <td>6</td>\n",
       "      <td>12/1/2010 8:26</td>\n",
       "      <td>2.55</td>\n",
       "      <td>17850.0</td>\n",
       "      <td>United Kingdom</td>\n",
       "    </tr>\n",
       "    <tr>\n",
       "      <th>1</th>\n",
       "      <td>536365</td>\n",
       "      <td>71053</td>\n",
       "      <td>WHITE METAL LANTERN</td>\n",
       "      <td>6</td>\n",
       "      <td>12/1/2010 8:26</td>\n",
       "      <td>3.39</td>\n",
       "      <td>17850.0</td>\n",
       "      <td>United Kingdom</td>\n",
       "    </tr>\n",
       "    <tr>\n",
       "      <th>2</th>\n",
       "      <td>536365</td>\n",
       "      <td>84406B</td>\n",
       "      <td>CREAM CUPID HEARTS COAT HANGER</td>\n",
       "      <td>8</td>\n",
       "      <td>12/1/2010 8:26</td>\n",
       "      <td>2.75</td>\n",
       "      <td>17850.0</td>\n",
       "      <td>United Kingdom</td>\n",
       "    </tr>\n",
       "    <tr>\n",
       "      <th>3</th>\n",
       "      <td>536365</td>\n",
       "      <td>84029G</td>\n",
       "      <td>KNITTED UNION FLAG HOT WATER BOTTLE</td>\n",
       "      <td>6</td>\n",
       "      <td>12/1/2010 8:26</td>\n",
       "      <td>3.39</td>\n",
       "      <td>17850.0</td>\n",
       "      <td>United Kingdom</td>\n",
       "    </tr>\n",
       "    <tr>\n",
       "      <th>4</th>\n",
       "      <td>536365</td>\n",
       "      <td>84029E</td>\n",
       "      <td>RED WOOLLY HOTTIE WHITE HEART.</td>\n",
       "      <td>6</td>\n",
       "      <td>12/1/2010 8:26</td>\n",
       "      <td>3.39</td>\n",
       "      <td>17850.0</td>\n",
       "      <td>United Kingdom</td>\n",
       "    </tr>\n",
       "  </tbody>\n",
       "</table>\n",
       "</div>"
      ],
      "text/plain": [
       "  InvoiceNo StockCode                          Description  Quantity  \\\n",
       "0    536365    85123A   WHITE HANGING HEART T-LIGHT HOLDER         6   \n",
       "1    536365     71053                  WHITE METAL LANTERN         6   \n",
       "2    536365    84406B       CREAM CUPID HEARTS COAT HANGER         8   \n",
       "3    536365    84029G  KNITTED UNION FLAG HOT WATER BOTTLE         6   \n",
       "4    536365    84029E       RED WOOLLY HOTTIE WHITE HEART.         6   \n",
       "\n",
       "      InvoiceDate  UnitPrice  CustomerID         Country  \n",
       "0  12/1/2010 8:26       2.55     17850.0  United Kingdom  \n",
       "1  12/1/2010 8:26       3.39     17850.0  United Kingdom  \n",
       "2  12/1/2010 8:26       2.75     17850.0  United Kingdom  \n",
       "3  12/1/2010 8:26       3.39     17850.0  United Kingdom  \n",
       "4  12/1/2010 8:26       3.39     17850.0  United Kingdom  "
      ]
     },
     "execution_count": 22,
     "metadata": {},
     "output_type": "execute_result"
    }
   ],
   "source": [
    "uk_data.head()"
   ]
  },
  {
   "cell_type": "code",
   "execution_count": 23,
   "id": "76d3bf1f",
   "metadata": {},
   "outputs": [],
   "source": [
    "# Filter the required columns only\n",
    "\n",
    "uk_data = uk_data[['CustomerID','InvoiceDate','InvoiceNo','Quantity','UnitPrice']]"
   ]
  },
  {
   "cell_type": "code",
   "execution_count": 24,
   "id": "ead6b3d1",
   "metadata": {},
   "outputs": [],
   "source": [
    "# Calculate Total Price\n",
    "\n",
    "uk_data['TotalPrice'] = uk_data['Quantity'] * uk_data['UnitPrice']"
   ]
  },
  {
   "cell_type": "markdown",
   "id": "d94f4fc3",
   "metadata": {},
   "source": [
    "# Time frame of data"
   ]
  },
  {
   "cell_type": "code",
   "execution_count": 25,
   "id": "ebbd0d29",
   "metadata": {},
   "outputs": [
    {
     "name": "stdout",
     "output_type": "stream",
     "text": [
      "1/10/2011 10:32\n",
      "9/9/2011 9:52\n"
     ]
    }
   ],
   "source": [
    "# Check Min and Max dates\n",
    "\n",
    "print(uk_data['InvoiceDate'].min())\n",
    "print(uk_data['InvoiceDate'].max())"
   ]
  },
  {
   "cell_type": "markdown",
   "id": "7d5131bc",
   "metadata": {},
   "source": [
    "## Q4. Comment on the above results"
   ]
  },
  {
   "cell_type": "markdown",
   "id": "6fbf64a3",
   "metadata": {},
   "source": [
    "## A4. Based on above results, we understand that since the invoiceDate is in object datatype instead of DateTime and have data from 2010, it displayes with minimum from Jan 10th 2011 to maximum at Sept 9th 2011."
   ]
  },
  {
   "cell_type": "markdown",
   "id": "ae56cf86",
   "metadata": {},
   "source": [
    "## Perform RFM Analysis\n",
    "\n",
    "- For Recency, Calculate the number of days between present date and date of last purchase for each customer.\n",
    "- For Frequency, Calculate the number of orders for each customer.\n",
    "- For Monetary, Calculate sum of purchase price for each customer"
   ]
  },
  {
   "cell_type": "code",
   "execution_count": 26,
   "id": "d6e1a42b",
   "metadata": {},
   "outputs": [],
   "source": [
    "# Store a date as a reference point for recency calculations\n",
    "\n",
    "PRESENT = dt.datetime(2011, 12, 10)\n",
    "\n",
    "# Convert date to datetime format\n",
    "\n",
    "uk_data['InvoiceDate'] = pd.to_datetime(uk_data['InvoiceDate'])"
   ]
  },
  {
   "cell_type": "code",
   "execution_count": 27,
   "id": "08f3a296",
   "metadata": {},
   "outputs": [
    {
     "name": "stdout",
     "output_type": "stream",
     "text": [
      "2010-12-01 08:26:00\n",
      "2011-12-09 12:49:00\n"
     ]
    }
   ],
   "source": [
    "# Check Min and Max dates\n",
    "\n",
    "print(uk_data['InvoiceDate'].min())\n",
    "print(uk_data['InvoiceDate'].max())"
   ]
  },
  {
   "cell_type": "code",
   "execution_count": 28,
   "id": "8f92bdcb",
   "metadata": {},
   "outputs": [
    {
     "data": {
      "text/plain": [
       "0   2010-12-01 08:26:00\n",
       "1   2010-12-01 08:26:00\n",
       "2   2010-12-01 08:26:00\n",
       "3   2010-12-01 08:26:00\n",
       "4   2010-12-01 08:26:00\n",
       "Name: InvoiceDate, dtype: datetime64[ns]"
      ]
     },
     "execution_count": 28,
     "metadata": {},
     "output_type": "execute_result"
    }
   ],
   "source": [
    "uk_data['InvoiceDate'].head()"
   ]
  },
  {
   "cell_type": "code",
   "execution_count": 29,
   "id": "bf0c3a15",
   "metadata": {},
   "outputs": [
    {
     "data": {
      "text/plain": [
       "576339    542\n",
       "579196    533\n",
       "580727    529\n",
       "578270    442\n",
       "573576    435\n",
       "Name: InvoiceNo, dtype: int64"
      ]
     },
     "execution_count": 29,
     "metadata": {},
     "output_type": "execute_result"
    }
   ],
   "source": [
    "uk_data['InvoiceNo'].value_counts().head()"
   ]
  },
  {
   "cell_type": "markdown",
   "id": "46ea8788",
   "metadata": {},
   "source": [
    "## Q5. Comment on the above results"
   ]
  },
  {
   "cell_type": "markdown",
   "id": "ab9d5885",
   "metadata": {},
   "source": [
    "## A5. The error in maximum and minimum InvoiceDate have been corrected and we have number of entries for each Invoice Number."
   ]
  },
  {
   "cell_type": "code",
   "execution_count": 30,
   "id": "9a69ed76",
   "metadata": {},
   "outputs": [
    {
     "data": {
      "text/html": [
       "<div>\n",
       "<style scoped>\n",
       "    .dataframe tbody tr th:only-of-type {\n",
       "        vertical-align: middle;\n",
       "    }\n",
       "\n",
       "    .dataframe tbody tr th {\n",
       "        vertical-align: top;\n",
       "    }\n",
       "\n",
       "    .dataframe thead th {\n",
       "        text-align: right;\n",
       "    }\n",
       "</style>\n",
       "<table border=\"1\" class=\"dataframe\">\n",
       "  <thead>\n",
       "    <tr style=\"text-align: right;\">\n",
       "      <th></th>\n",
       "      <th>InvoiceNo</th>\n",
       "      <th>InvoiceDate</th>\n",
       "      <th>CustomerID</th>\n",
       "      <th>TotalPrice</th>\n",
       "    </tr>\n",
       "  </thead>\n",
       "  <tbody>\n",
       "    <tr>\n",
       "      <th>0</th>\n",
       "      <td>536365</td>\n",
       "      <td>2010-12-01 08:26:00</td>\n",
       "      <td>17850.0</td>\n",
       "      <td>139.12</td>\n",
       "    </tr>\n",
       "    <tr>\n",
       "      <th>1</th>\n",
       "      <td>536366</td>\n",
       "      <td>2010-12-01 08:28:00</td>\n",
       "      <td>17850.0</td>\n",
       "      <td>22.20</td>\n",
       "    </tr>\n",
       "    <tr>\n",
       "      <th>2</th>\n",
       "      <td>536367</td>\n",
       "      <td>2010-12-01 08:34:00</td>\n",
       "      <td>13047.0</td>\n",
       "      <td>278.73</td>\n",
       "    </tr>\n",
       "    <tr>\n",
       "      <th>3</th>\n",
       "      <td>536368</td>\n",
       "      <td>2010-12-01 08:34:00</td>\n",
       "      <td>13047.0</td>\n",
       "      <td>70.05</td>\n",
       "    </tr>\n",
       "    <tr>\n",
       "      <th>4</th>\n",
       "      <td>536369</td>\n",
       "      <td>2010-12-01 08:35:00</td>\n",
       "      <td>13047.0</td>\n",
       "      <td>17.85</td>\n",
       "    </tr>\n",
       "  </tbody>\n",
       "</table>\n",
       "</div>"
      ],
      "text/plain": [
       "  InvoiceNo         InvoiceDate  CustomerID  TotalPrice\n",
       "0    536365 2010-12-01 08:26:00     17850.0      139.12\n",
       "1    536366 2010-12-01 08:28:00     17850.0       22.20\n",
       "2    536367 2010-12-01 08:34:00     13047.0      278.73\n",
       "3    536368 2010-12-01 08:34:00     13047.0       70.05\n",
       "4    536369 2010-12-01 08:35:00     13047.0       17.85"
      ]
     },
     "execution_count": 30,
     "metadata": {},
     "output_type": "execute_result"
    }
   ],
   "source": [
    "orders = uk_data.groupby(['InvoiceNo', 'InvoiceDate', 'CustomerID']).agg({'TotalPrice': lambda x: x.sum()}).reset_index()\n",
    "orders.head()"
   ]
  },
  {
   "cell_type": "code",
   "execution_count": 31,
   "id": "9f80621d",
   "metadata": {},
   "outputs": [],
   "source": [
    "rfm = uk_data.groupby('CustomerID').agg({'InvoiceDate': lambda date: (PRESENT - date.max()).days,\n",
    "                                        'InvoiceNo': lambda num: len(num),\n",
    "                                        'TotalPrice': lambda price: price.sum()})"
   ]
  },
  {
   "cell_type": "code",
   "execution_count": 32,
   "id": "380714eb",
   "metadata": {},
   "outputs": [
    {
     "data": {
      "text/html": [
       "<div>\n",
       "<style scoped>\n",
       "    .dataframe tbody tr th:only-of-type {\n",
       "        vertical-align: middle;\n",
       "    }\n",
       "\n",
       "    .dataframe tbody tr th {\n",
       "        vertical-align: top;\n",
       "    }\n",
       "\n",
       "    .dataframe thead th {\n",
       "        text-align: right;\n",
       "    }\n",
       "</style>\n",
       "<table border=\"1\" class=\"dataframe\">\n",
       "  <thead>\n",
       "    <tr style=\"text-align: right;\">\n",
       "      <th></th>\n",
       "      <th>InvoiceDate</th>\n",
       "      <th>InvoiceNo</th>\n",
       "      <th>TotalPrice</th>\n",
       "    </tr>\n",
       "    <tr>\n",
       "      <th>CustomerID</th>\n",
       "      <th></th>\n",
       "      <th></th>\n",
       "      <th></th>\n",
       "    </tr>\n",
       "  </thead>\n",
       "  <tbody>\n",
       "    <tr>\n",
       "      <th>12346.0</th>\n",
       "      <td>325</td>\n",
       "      <td>1</td>\n",
       "      <td>77183.60</td>\n",
       "    </tr>\n",
       "    <tr>\n",
       "      <th>12747.0</th>\n",
       "      <td>2</td>\n",
       "      <td>103</td>\n",
       "      <td>4196.01</td>\n",
       "    </tr>\n",
       "    <tr>\n",
       "      <th>12748.0</th>\n",
       "      <td>0</td>\n",
       "      <td>4596</td>\n",
       "      <td>33719.73</td>\n",
       "    </tr>\n",
       "    <tr>\n",
       "      <th>12749.0</th>\n",
       "      <td>3</td>\n",
       "      <td>199</td>\n",
       "      <td>4090.88</td>\n",
       "    </tr>\n",
       "    <tr>\n",
       "      <th>12820.0</th>\n",
       "      <td>3</td>\n",
       "      <td>59</td>\n",
       "      <td>942.34</td>\n",
       "    </tr>\n",
       "    <tr>\n",
       "      <th>...</th>\n",
       "      <td>...</td>\n",
       "      <td>...</td>\n",
       "      <td>...</td>\n",
       "    </tr>\n",
       "    <tr>\n",
       "      <th>18280.0</th>\n",
       "      <td>277</td>\n",
       "      <td>10</td>\n",
       "      <td>180.60</td>\n",
       "    </tr>\n",
       "    <tr>\n",
       "      <th>18281.0</th>\n",
       "      <td>180</td>\n",
       "      <td>7</td>\n",
       "      <td>80.82</td>\n",
       "    </tr>\n",
       "    <tr>\n",
       "      <th>18282.0</th>\n",
       "      <td>7</td>\n",
       "      <td>12</td>\n",
       "      <td>178.05</td>\n",
       "    </tr>\n",
       "    <tr>\n",
       "      <th>18283.0</th>\n",
       "      <td>3</td>\n",
       "      <td>756</td>\n",
       "      <td>2094.88</td>\n",
       "    </tr>\n",
       "    <tr>\n",
       "      <th>18287.0</th>\n",
       "      <td>42</td>\n",
       "      <td>70</td>\n",
       "      <td>1837.28</td>\n",
       "    </tr>\n",
       "  </tbody>\n",
       "</table>\n",
       "<p>3921 rows × 3 columns</p>\n",
       "</div>"
      ],
      "text/plain": [
       "            InvoiceDate  InvoiceNo  TotalPrice\n",
       "CustomerID                                    \n",
       "12346.0             325          1    77183.60\n",
       "12747.0               2        103     4196.01\n",
       "12748.0               0       4596    33719.73\n",
       "12749.0               3        199     4090.88\n",
       "12820.0               3         59      942.34\n",
       "...                 ...        ...         ...\n",
       "18280.0             277         10      180.60\n",
       "18281.0             180          7       80.82\n",
       "18282.0               7         12      178.05\n",
       "18283.0               3        756     2094.88\n",
       "18287.0              42         70     1837.28\n",
       "\n",
       "[3921 rows x 3 columns]"
      ]
     },
     "execution_count": 32,
     "metadata": {},
     "output_type": "execute_result"
    }
   ],
   "source": [
    "rfm"
   ]
  },
  {
   "cell_type": "code",
   "execution_count": 33,
   "id": "93b95745",
   "metadata": {},
   "outputs": [],
   "source": [
    "# Rename the columns \n",
    "\n",
    "rfm.columns = ['monetary','frequency','recency']"
   ]
  },
  {
   "cell_type": "code",
   "execution_count": 34,
   "id": "5a654b6b",
   "metadata": {},
   "outputs": [],
   "source": [
    "rfm['recency'] = rfm['recency'].astype(int)"
   ]
  },
  {
   "cell_type": "code",
   "execution_count": 35,
   "id": "963e5043",
   "metadata": {},
   "outputs": [],
   "source": [
    "rfm['monetary'] = rfm['monetary'].astype(int)"
   ]
  },
  {
   "cell_type": "code",
   "execution_count": 36,
   "id": "de74f994",
   "metadata": {},
   "outputs": [
    {
     "data": {
      "text/html": [
       "<div>\n",
       "<style scoped>\n",
       "    .dataframe tbody tr th:only-of-type {\n",
       "        vertical-align: middle;\n",
       "    }\n",
       "\n",
       "    .dataframe tbody tr th {\n",
       "        vertical-align: top;\n",
       "    }\n",
       "\n",
       "    .dataframe thead th {\n",
       "        text-align: right;\n",
       "    }\n",
       "</style>\n",
       "<table border=\"1\" class=\"dataframe\">\n",
       "  <thead>\n",
       "    <tr style=\"text-align: right;\">\n",
       "      <th></th>\n",
       "      <th>monetary</th>\n",
       "      <th>frequency</th>\n",
       "      <th>recency</th>\n",
       "    </tr>\n",
       "    <tr>\n",
       "      <th>CustomerID</th>\n",
       "      <th></th>\n",
       "      <th></th>\n",
       "      <th></th>\n",
       "    </tr>\n",
       "  </thead>\n",
       "  <tbody>\n",
       "    <tr>\n",
       "      <th>12346.0</th>\n",
       "      <td>325</td>\n",
       "      <td>1</td>\n",
       "      <td>77183</td>\n",
       "    </tr>\n",
       "    <tr>\n",
       "      <th>12747.0</th>\n",
       "      <td>2</td>\n",
       "      <td>103</td>\n",
       "      <td>4196</td>\n",
       "    </tr>\n",
       "    <tr>\n",
       "      <th>12748.0</th>\n",
       "      <td>0</td>\n",
       "      <td>4596</td>\n",
       "      <td>33719</td>\n",
       "    </tr>\n",
       "    <tr>\n",
       "      <th>12749.0</th>\n",
       "      <td>3</td>\n",
       "      <td>199</td>\n",
       "      <td>4090</td>\n",
       "    </tr>\n",
       "    <tr>\n",
       "      <th>12820.0</th>\n",
       "      <td>3</td>\n",
       "      <td>59</td>\n",
       "      <td>942</td>\n",
       "    </tr>\n",
       "  </tbody>\n",
       "</table>\n",
       "</div>"
      ],
      "text/plain": [
       "            monetary  frequency  recency\n",
       "CustomerID                              \n",
       "12346.0          325          1    77183\n",
       "12747.0            2        103     4196\n",
       "12748.0            0       4596    33719\n",
       "12749.0            3        199     4090\n",
       "12820.0            3         59      942"
      ]
     },
     "execution_count": 36,
     "metadata": {},
     "output_type": "execute_result"
    }
   ],
   "source": [
    "rfm.head()"
   ]
  },
  {
   "cell_type": "markdown",
   "id": "7e2b6dc0",
   "metadata": {},
   "source": [
    "## Q6. What do you think is wrong with this table?"
   ]
  },
  {
   "cell_type": "markdown",
   "id": "97b8301f",
   "metadata": {},
   "source": [
    "## A6. The column names are shuffled and they are named incorrectly."
   ]
  },
  {
   "cell_type": "code",
   "execution_count": 37,
   "id": "605d35ea",
   "metadata": {},
   "outputs": [],
   "source": [
    "# Change the column names\n",
    "\n",
    "rfm.columns=['recency','frequency','monetary']"
   ]
  },
  {
   "cell_type": "markdown",
   "id": "f206b62b",
   "metadata": {},
   "source": [
    "## Create Visuals\n",
    "\n",
    "- Histogram for Recency Data\n",
    "- Histogram for Frequency Data\n",
    "- Histogram for Monetary Data"
   ]
  },
  {
   "cell_type": "code",
   "execution_count": 38,
   "id": "93b28325",
   "metadata": {},
   "outputs": [
    {
     "data": {
      "text/plain": [
       "array([[<AxesSubplot:title={'center':'recency'}>]], dtype=object)"
      ]
     },
     "execution_count": 38,
     "metadata": {},
     "output_type": "execute_result"
    },
    {
     "data": {
      "image/png": "[encoded data removed]",
      "text/plain": [
       "<Figure size 432x288 with 1 Axes>"
      ]
     },
     "metadata": {
      "needs_background": "light"
     },
     "output_type": "display_data"
    }
   ],
   "source": [
    "# Histogram for Recency Data (UK)\n",
    "\n",
    "rfm.hist(column='recency', bins=25)"
   ]
  },
  {
   "cell_type": "markdown",
   "id": "1b3d067e",
   "metadata": {},
   "source": [
    "## Q7. What does the above chart tell?"
   ]
  },
  {
   "cell_type": "markdown",
   "id": "219afc01",
   "metadata": {},
   "source": [
    "## A7. The above plot suggests that from all the customers, only somewhat 50 customers have a recency of 400 and above."
   ]
  },
  {
   "cell_type": "code",
   "execution_count": 39,
   "id": "d1abeaa5",
   "metadata": {},
   "outputs": [
    {
     "data": {
      "text/plain": [
       "array([[<AxesSubplot:title={'center':'frequency'}>]], dtype=object)"
      ]
     },
     "execution_count": 39,
     "metadata": {},
     "output_type": "execute_result"
    },
    {
     "data": {
      "image/png": "[encoded data removed]",
      "text/plain": [
       "<Figure size 432x288 with 1 Axes>"
      ]
     },
     "metadata": {
      "needs_background": "light"
     },
     "output_type": "display_data"
    }
   ],
   "source": [
    "# Histogram for Frequency Data (UK)\n",
    "\n",
    "rfm.hist(column='frequency', bins=50)"
   ]
  },
  {
   "cell_type": "markdown",
   "id": "c7ed4016",
   "metadata": {},
   "source": [
    "## Q8. What does the above chart tell?"
   ]
  },
  {
   "cell_type": "markdown",
   "id": "8cb3c60c",
   "metadata": {},
   "source": [
    "## A8. The above plot suggests that we have some customers with very high frequency over 3000 but majority of them are under 500."
   ]
  },
  {
   "cell_type": "code",
   "execution_count": 40,
   "id": "330a29fa",
   "metadata": {},
   "outputs": [
    {
     "data": {
      "text/plain": [
       "array([[<AxesSubplot:title={'center':'monetary'}>]], dtype=object)"
      ]
     },
     "execution_count": 40,
     "metadata": {},
     "output_type": "execute_result"
    },
    {
     "data": {
      "image/png": "[encoded data removed]",
      "text/plain": [
       "<Figure size 432x288 with 1 Axes>"
      ]
     },
     "metadata": {
      "needs_background": "light"
     },
     "output_type": "display_data"
    }
   ],
   "source": [
    "# Histogram for Monetary Data (UK)\n",
    "\n",
    "rfm.hist(column='monetary', bins=50)"
   ]
  },
  {
   "cell_type": "markdown",
   "id": "3a6543a5",
   "metadata": {},
   "source": [
    "## Q9. What does the above chart tell?"
   ]
  },
  {
   "cell_type": "markdown",
   "id": "0928db98",
   "metadata": {},
   "source": [
    "## A9. From the above plot, we can interpret that we have certain customers with monetary ranging over 3500, but others are even below 500."
   ]
  },
  {
   "cell_type": "code",
   "execution_count": 41,
   "id": "9a52b067",
   "metadata": {},
   "outputs": [
    {
     "data": {
      "text/html": [
       "<div>\n",
       "<style scoped>\n",
       "    .dataframe tbody tr th:only-of-type {\n",
       "        vertical-align: middle;\n",
       "    }\n",
       "\n",
       "    .dataframe tbody tr th {\n",
       "        vertical-align: top;\n",
       "    }\n",
       "\n",
       "    .dataframe thead th {\n",
       "        text-align: right;\n",
       "    }\n",
       "</style>\n",
       "<table border=\"1\" class=\"dataframe\">\n",
       "  <thead>\n",
       "    <tr style=\"text-align: right;\">\n",
       "      <th></th>\n",
       "      <th>recency</th>\n",
       "      <th>frequency</th>\n",
       "      <th>monetary</th>\n",
       "    </tr>\n",
       "    <tr>\n",
       "      <th>CustomerID</th>\n",
       "      <th></th>\n",
       "      <th></th>\n",
       "      <th></th>\n",
       "    </tr>\n",
       "  </thead>\n",
       "  <tbody>\n",
       "    <tr>\n",
       "      <th>14049.0</th>\n",
       "      <td>16</td>\n",
       "      <td>488</td>\n",
       "      <td>5681</td>\n",
       "    </tr>\n",
       "    <tr>\n",
       "      <th>14110.0</th>\n",
       "      <td>3</td>\n",
       "      <td>156</td>\n",
       "      <td>5683</td>\n",
       "    </tr>\n",
       "    <tr>\n",
       "      <th>13468.0</th>\n",
       "      <td>1</td>\n",
       "      <td>302</td>\n",
       "      <td>5704</td>\n",
       "    </tr>\n",
       "    <tr>\n",
       "      <th>16553.0</th>\n",
       "      <td>163</td>\n",
       "      <td>84</td>\n",
       "      <td>5719</td>\n",
       "    </tr>\n",
       "    <tr>\n",
       "      <th>13178.0</th>\n",
       "      <td>26</td>\n",
       "      <td>265</td>\n",
       "      <td>5725</td>\n",
       "    </tr>\n",
       "    <tr>\n",
       "      <th>...</th>\n",
       "      <td>...</td>\n",
       "      <td>...</td>\n",
       "      <td>...</td>\n",
       "    </tr>\n",
       "    <tr>\n",
       "      <th>14733.0</th>\n",
       "      <td>16</td>\n",
       "      <td>202</td>\n",
       "      <td>9585</td>\n",
       "    </tr>\n",
       "    <tr>\n",
       "      <th>13458.0</th>\n",
       "      <td>7</td>\n",
       "      <td>382</td>\n",
       "      <td>9646</td>\n",
       "    </tr>\n",
       "    <tr>\n",
       "      <th>15078.0</th>\n",
       "      <td>7</td>\n",
       "      <td>440</td>\n",
       "      <td>9743</td>\n",
       "    </tr>\n",
       "    <tr>\n",
       "      <th>13199.0</th>\n",
       "      <td>3</td>\n",
       "      <td>119</td>\n",
       "      <td>9817</td>\n",
       "    </tr>\n",
       "    <tr>\n",
       "      <th>13001.0</th>\n",
       "      <td>4</td>\n",
       "      <td>339</td>\n",
       "      <td>9818</td>\n",
       "    </tr>\n",
       "  </tbody>\n",
       "</table>\n",
       "<p>100 rows × 3 columns</p>\n",
       "</div>"
      ],
      "text/plain": [
       "            recency  frequency  monetary\n",
       "CustomerID                              \n",
       "14049.0          16        488      5681\n",
       "14110.0           3        156      5683\n",
       "13468.0           1        302      5704\n",
       "16553.0         163         84      5719\n",
       "13178.0          26        265      5725\n",
       "...             ...        ...       ...\n",
       "14733.0          16        202      9585\n",
       "13458.0           7        382      9646\n",
       "15078.0           7        440      9743\n",
       "13199.0           3        119      9817\n",
       "13001.0           4        339      9818\n",
       "\n",
       "[100 rows x 3 columns]"
      ]
     },
     "execution_count": 41,
     "metadata": {},
     "output_type": "execute_result"
    }
   ],
   "source": [
    "rfm.sort_values(by=['monetary'], inplace=True)\n",
    "\n",
    "rfm = rfm[rfm.monetary < 10000]\n",
    "\n",
    "rfm.tail(100)"
   ]
  },
  {
   "cell_type": "code",
   "execution_count": 42,
   "id": "89641ca9",
   "metadata": {},
   "outputs": [
    {
     "data": {
      "text/plain": [
       "array([[<AxesSubplot:title={'center':'monetary'}>]], dtype=object)"
      ]
     },
     "execution_count": 42,
     "metadata": {},
     "output_type": "execute_result"
    },
    {
     "data": {
      "image/png": "[encoded data removed]",
      "text/plain": [
       "<Figure size 432x288 with 1 Axes>"
      ]
     },
     "metadata": {
      "needs_background": "light"
     },
     "output_type": "display_data"
    }
   ],
   "source": [
    "# Histogram for Monetary Data (UK)\n",
    "\n",
    "rfm.hist(column='monetary', bins=100)"
   ]
  },
  {
   "cell_type": "markdown",
   "id": "443e9f8e",
   "metadata": {},
   "source": [
    "## Q10. What does the above chart tell?"
   ]
  },
  {
   "cell_type": "markdown",
   "id": "8ffc63bf",
   "metadata": {},
   "source": [
    "## A10."
   ]
  },
  {
   "cell_type": "code",
   "execution_count": 43,
   "id": "d4cfac82",
   "metadata": {},
   "outputs": [
    {
     "name": "stdout",
     "output_type": "stream",
     "text": [
      "             recency  frequency  monetary\n",
      "CustomerID                               \n",
      "13256.0     0.795485   0.667799  0.803362\n",
      "16738.0     2.041592   0.667799  0.801337\n",
      "16454.0     0.494735   0.659217  0.799312\n",
      "14792.0     0.304260   0.659217  0.799312\n",
      "17956.0     1.560391   0.667799  0.795262\n",
      "...              ...        ...       ...\n",
      "14733.0     0.775435   1.057341  5.666188\n",
      "13458.0     0.865660   2.602242  5.707361\n",
      "15078.0     0.865660   3.100044  5.772833\n",
      "13199.0     0.905760   0.344969  5.822780\n",
      "13001.0     0.895735   2.233182  5.823455\n",
      "\n",
      "[3836 rows x 3 columns]\n"
     ]
    }
   ],
   "source": [
    "# Calculate Z scores to normalize the data\n",
    "\n",
    "from scipy import stats\n",
    "import numpy as np\n",
    "z = np.abs(stats.zscore(rfm))\n",
    "print(z)"
   ]
  },
  {
   "cell_type": "code",
   "execution_count": 44,
   "id": "46ad0a42",
   "metadata": {},
   "outputs": [],
   "source": [
    "# Save the cleaned file\n",
    "\n",
    "rfm.to_csv('rfm.csv')"
   ]
  },
  {
   "cell_type": "markdown",
   "id": "14ead0a5",
   "metadata": {},
   "source": [
    "## Calcualte the RFM Score"
   ]
  },
  {
   "cell_type": "code",
   "execution_count": 45,
   "id": "d8439526",
   "metadata": {},
   "outputs": [
    {
     "data": {
      "text/plain": [
       "{'recency': {0.2: 15.0, 0.4: 33.0, 0.6: 72.0, 0.8: 182.0},\n",
       " 'frequency': {0.2: 13.0, 0.4: 28.0, 0.6: 55.0, 0.8: 115.0},\n",
       " 'monetary': {0.2: 236.0, 0.4: 450.0, 0.6: 854.0, 0.8: 1822.0}}"
      ]
     },
     "execution_count": 45,
     "metadata": {},
     "output_type": "execute_result"
    }
   ],
   "source": [
    "# Use quintiles to to make 5 equal parts based on the available values. Each quintiles contains 20% of the population. \n",
    "\n",
    "quintiles = rfm[['recency', 'frequency', 'monetary']].quantile([.2, .4, .6, .8]).to_dict()\n",
    "quintiles"
   ]
  },
  {
   "cell_type": "code",
   "execution_count": 46,
   "id": "85cbb8ca",
   "metadata": {},
   "outputs": [],
   "source": [
    "# Define functions to assign ranks from 1 to 5. \n",
    "# A lower Recency value is better and higher Frequency and Monetary values are better. \n",
    "# We will have to write two separate functions\n",
    "\n",
    "def r_score(x):\n",
    "    if x <= quintiles['recency'][.2]:\n",
    "        return 5\n",
    "    elif x <= quintiles['recency'][.4]:\n",
    "        return 4\n",
    "    elif x <= quintiles['recency'][.6]:\n",
    "        return 3\n",
    "    elif x <= quintiles['recency'][.8]:\n",
    "        return 2\n",
    "    else:\n",
    "        return 1\n",
    "    \n",
    "def fm_score(x, c):\n",
    "    if x <= quintiles[c][.2]:\n",
    "        return 1\n",
    "    elif x <= quintiles[c][.4]:\n",
    "        return 2\n",
    "    elif x <= quintiles[c][.6]:\n",
    "        return 3\n",
    "    elif x <= quintiles[c][.8]:\n",
    "        return 4\n",
    "    else:\n",
    "        return 5  "
   ]
  },
  {
   "cell_type": "code",
   "execution_count": 47,
   "id": "aad16e72",
   "metadata": {},
   "outputs": [],
   "source": [
    "# Calculate RFM score for each customer\n",
    "\n",
    "rfm['R'] = rfm['recency'].apply(lambda x: r_score(x))\n",
    "rfm['F'] = rfm['frequency'].apply(lambda x: fm_score(x, 'frequency'))\n",
    "rfm['M'] = rfm['monetary'].apply(lambda x: fm_score(x, 'monetary'))"
   ]
  },
  {
   "cell_type": "code",
   "execution_count": 48,
   "id": "4d45d91f",
   "metadata": {},
   "outputs": [
    {
     "data": {
      "text/html": [
       "<div>\n",
       "<style scoped>\n",
       "    .dataframe tbody tr th:only-of-type {\n",
       "        vertical-align: middle;\n",
       "    }\n",
       "\n",
       "    .dataframe tbody tr th {\n",
       "        vertical-align: top;\n",
       "    }\n",
       "\n",
       "    .dataframe thead th {\n",
       "        text-align: right;\n",
       "    }\n",
       "</style>\n",
       "<table border=\"1\" class=\"dataframe\">\n",
       "  <thead>\n",
       "    <tr style=\"text-align: right;\">\n",
       "      <th></th>\n",
       "      <th>recency</th>\n",
       "      <th>frequency</th>\n",
       "      <th>monetary</th>\n",
       "      <th>R</th>\n",
       "      <th>F</th>\n",
       "      <th>M</th>\n",
       "      <th>RFM Score</th>\n",
       "    </tr>\n",
       "    <tr>\n",
       "      <th>CustomerID</th>\n",
       "      <th></th>\n",
       "      <th></th>\n",
       "      <th></th>\n",
       "      <th></th>\n",
       "      <th></th>\n",
       "      <th></th>\n",
       "      <th></th>\n",
       "    </tr>\n",
       "  </thead>\n",
       "  <tbody>\n",
       "    <tr>\n",
       "      <th>13256.0</th>\n",
       "      <td>14</td>\n",
       "      <td>1</td>\n",
       "      <td>0</td>\n",
       "      <td>5</td>\n",
       "      <td>1</td>\n",
       "      <td>1</td>\n",
       "      <td>511</td>\n",
       "    </tr>\n",
       "    <tr>\n",
       "      <th>16738.0</th>\n",
       "      <td>297</td>\n",
       "      <td>1</td>\n",
       "      <td>3</td>\n",
       "      <td>1</td>\n",
       "      <td>1</td>\n",
       "      <td>1</td>\n",
       "      <td>111</td>\n",
       "    </tr>\n",
       "    <tr>\n",
       "      <th>16454.0</th>\n",
       "      <td>44</td>\n",
       "      <td>2</td>\n",
       "      <td>6</td>\n",
       "      <td>3</td>\n",
       "      <td>1</td>\n",
       "      <td>1</td>\n",
       "      <td>311</td>\n",
       "    </tr>\n",
       "    <tr>\n",
       "      <th>14792.0</th>\n",
       "      <td>63</td>\n",
       "      <td>2</td>\n",
       "      <td>6</td>\n",
       "      <td>3</td>\n",
       "      <td>1</td>\n",
       "      <td>1</td>\n",
       "      <td>311</td>\n",
       "    </tr>\n",
       "    <tr>\n",
       "      <th>17956.0</th>\n",
       "      <td>249</td>\n",
       "      <td>1</td>\n",
       "      <td>12</td>\n",
       "      <td>1</td>\n",
       "      <td>1</td>\n",
       "      <td>1</td>\n",
       "      <td>111</td>\n",
       "    </tr>\n",
       "  </tbody>\n",
       "</table>\n",
       "</div>"
      ],
      "text/plain": [
       "            recency  frequency  monetary  R  F  M RFM Score\n",
       "CustomerID                                                 \n",
       "13256.0          14          1         0  5  1  1       511\n",
       "16738.0         297          1         3  1  1  1       111\n",
       "16454.0          44          2         6  3  1  1       311\n",
       "14792.0          63          2         6  3  1  1       311\n",
       "17956.0         249          1        12  1  1  1       111"
      ]
     },
     "execution_count": 48,
     "metadata": {},
     "output_type": "execute_result"
    }
   ],
   "source": [
    "# Combine the scores\n",
    "\n",
    "rfm['RFM Score'] = rfm['R'].map(str) + rfm['F'].map(str) + rfm['M'].map(str)\n",
    "rfm.head()"
   ]
  },
  {
   "cell_type": "code",
   "execution_count": 49,
   "id": "6830b660",
   "metadata": {},
   "outputs": [
    {
     "data": {
      "text/html": [
       "<div>\n",
       "<style scoped>\n",
       "    .dataframe tbody tr th:only-of-type {\n",
       "        vertical-align: middle;\n",
       "    }\n",
       "\n",
       "    .dataframe tbody tr th {\n",
       "        vertical-align: top;\n",
       "    }\n",
       "\n",
       "    .dataframe thead th {\n",
       "        text-align: right;\n",
       "    }\n",
       "</style>\n",
       "<table border=\"1\" class=\"dataframe\">\n",
       "  <thead>\n",
       "    <tr style=\"text-align: right;\">\n",
       "      <th></th>\n",
       "      <th>recency</th>\n",
       "      <th>frequency</th>\n",
       "      <th>monetary</th>\n",
       "      <th>R</th>\n",
       "      <th>F</th>\n",
       "      <th>M</th>\n",
       "      <th>RFM Score</th>\n",
       "      <th>Segment</th>\n",
       "    </tr>\n",
       "    <tr>\n",
       "      <th>CustomerID</th>\n",
       "      <th></th>\n",
       "      <th></th>\n",
       "      <th></th>\n",
       "      <th></th>\n",
       "      <th></th>\n",
       "      <th></th>\n",
       "      <th></th>\n",
       "      <th></th>\n",
       "    </tr>\n",
       "  </thead>\n",
       "  <tbody>\n",
       "    <tr>\n",
       "      <th>13256.0</th>\n",
       "      <td>14</td>\n",
       "      <td>1</td>\n",
       "      <td>0</td>\n",
       "      <td>5</td>\n",
       "      <td>1</td>\n",
       "      <td>1</td>\n",
       "      <td>511</td>\n",
       "      <td>new customers</td>\n",
       "    </tr>\n",
       "    <tr>\n",
       "      <th>16738.0</th>\n",
       "      <td>297</td>\n",
       "      <td>1</td>\n",
       "      <td>3</td>\n",
       "      <td>1</td>\n",
       "      <td>1</td>\n",
       "      <td>1</td>\n",
       "      <td>111</td>\n",
       "      <td>at risk</td>\n",
       "    </tr>\n",
       "    <tr>\n",
       "      <th>16454.0</th>\n",
       "      <td>44</td>\n",
       "      <td>2</td>\n",
       "      <td>6</td>\n",
       "      <td>3</td>\n",
       "      <td>1</td>\n",
       "      <td>1</td>\n",
       "      <td>311</td>\n",
       "      <td>needs attention</td>\n",
       "    </tr>\n",
       "    <tr>\n",
       "      <th>14792.0</th>\n",
       "      <td>63</td>\n",
       "      <td>2</td>\n",
       "      <td>6</td>\n",
       "      <td>3</td>\n",
       "      <td>1</td>\n",
       "      <td>1</td>\n",
       "      <td>311</td>\n",
       "      <td>needs attention</td>\n",
       "    </tr>\n",
       "    <tr>\n",
       "      <th>17956.0</th>\n",
       "      <td>249</td>\n",
       "      <td>1</td>\n",
       "      <td>12</td>\n",
       "      <td>1</td>\n",
       "      <td>1</td>\n",
       "      <td>1</td>\n",
       "      <td>111</td>\n",
       "      <td>at risk</td>\n",
       "    </tr>\n",
       "  </tbody>\n",
       "</table>\n",
       "</div>"
      ],
      "text/plain": [
       "            recency  frequency  monetary  R  F  M RFM Score          Segment\n",
       "CustomerID                                                                  \n",
       "13256.0          14          1         0  5  1  1       511    new customers\n",
       "16738.0         297          1         3  1  1  1       111          at risk\n",
       "16454.0          44          2         6  3  1  1       311  needs attention\n",
       "14792.0          63          2         6  3  1  1       311  needs attention\n",
       "17956.0         249          1        12  1  1  1       111          at risk"
      ]
     },
     "execution_count": 49,
     "metadata": {},
     "output_type": "execute_result"
    }
   ],
   "source": [
    "# Create the customer segments based on your knowledge. \n",
    "# Create 6 segments based on R and F scores\n",
    "\n",
    "segments = {\n",
    "    '[1-2][1-4]': 'at risk',\n",
    "    '[1-2]5': 'can\\'t lose',\n",
    "    '3[1-3]': 'needs attention',\n",
    "    '[3-4][4-5]': 'loyal customers',\n",
    "    '[4-5]1': 'new customers',\n",
    "    '[4-5][2-5]': 'champions'\n",
    "  \n",
    "}\n",
    "\n",
    "rfm['Segment'] = rfm['R'].map(str) + rfm['F'].map(str)\n",
    "rfm['Segment'] = rfm['Segment'].replace(segments, regex=True)\n",
    "rfm.head()"
   ]
  },
  {
   "cell_type": "code",
   "execution_count": 50,
   "id": "bd788973",
   "metadata": {},
   "outputs": [
    {
     "data": {
      "text/plain": [
       "can't lose           77\n",
       "new customers       147\n",
       "needs attention     477\n",
       "loyal customers     695\n",
       "champions           989\n",
       "at risk            1451\n",
       "Name: Segment, dtype: int64"
      ]
     },
     "execution_count": 50,
     "metadata": {},
     "output_type": "execute_result"
    }
   ],
   "source": [
    "# Count the number of customers in each segment\n",
    "\n",
    "segments_counts = rfm['Segment'].value_counts().sort_values(ascending=True)\n",
    "\n",
    "segments_counts"
   ]
  },
  {
   "cell_type": "code",
   "execution_count": 51,
   "id": "e758fdc1",
   "metadata": {},
   "outputs": [
    {
     "data": {
      "image/png": "[encoded data removed]",
      "text/plain": [
       "<Figure size 432x288 with 1 Axes>"
      ]
     },
     "metadata": {
      "needs_background": "light"
     },
     "output_type": "display_data"
    }
   ],
   "source": [
    "# Distribution of Segments\n",
    "\n",
    "fig, ax = plt.subplots()\n",
    "\n",
    "bars = ax.barh(range(len(segments_counts)),\n",
    "              segments_counts,\n",
    "              color='gray')\n",
    "ax.set_frame_on(False)\n",
    "ax.tick_params(left=False,\n",
    "               bottom=False,\n",
    "               labelbottom=False)\n",
    "ax.set_yticks(range(len(segments_counts)))\n",
    "ax.set_yticklabels(segments_counts.index)\n",
    "\n",
    "for i, bar in enumerate(bars):\n",
    "        value = bar.get_width()\n",
    "        if segments_counts.index[i] in ['champions', 'loyal customers']:\n",
    "            bar.set_color('green')\n",
    "        ax.text(value,\n",
    "                bar.get_y() + bar.get_height()/2,\n",
    "                '{:,} ({:}%)'.format(int(value),\n",
    "                                   int(value*100/segments_counts.sum())),\n",
    "                va='center',\n",
    "                ha='left'\n",
    "               )\n",
    "\n",
    "plt.show()"
   ]
  },
  {
   "cell_type": "markdown",
   "id": "788a3c06",
   "metadata": {},
   "source": [
    "## Q11. Comment on the above chart"
   ]
  },
  {
   "cell_type": "markdown",
   "id": "891de758",
   "metadata": {},
   "source": [
    "## A11. Based on RFM score we can see that from the total customers we have 45% customers that are loyal, champions and the ones' we can't lose, whereas 37% are the ones at the verge of moving away and 12% needs attention to add them to the 45% segment. "
   ]
  },
  {
   "cell_type": "markdown",
   "id": "2c75c1f6",
   "metadata": {},
   "source": [
    "## Q12. Who are the best customers?"
   ]
  },
  {
   "cell_type": "markdown",
   "id": "225089c6",
   "metadata": {},
   "source": [
    "## A12. The customers in the category of 'champions' with RFM score of 5 in each are the best customers."
   ]
  },
  {
   "cell_type": "code",
   "execution_count": 52,
   "id": "2f7522ba",
   "metadata": {},
   "outputs": [
    {
     "data": {
      "text/html": [
       "<div>\n",
       "<style scoped>\n",
       "    .dataframe tbody tr th:only-of-type {\n",
       "        vertical-align: middle;\n",
       "    }\n",
       "\n",
       "    .dataframe tbody tr th {\n",
       "        vertical-align: top;\n",
       "    }\n",
       "\n",
       "    .dataframe thead th {\n",
       "        text-align: right;\n",
       "    }\n",
       "</style>\n",
       "<table border=\"1\" class=\"dataframe\">\n",
       "  <thead>\n",
       "    <tr style=\"text-align: right;\">\n",
       "      <th></th>\n",
       "      <th>recency</th>\n",
       "      <th>frequency</th>\n",
       "      <th>monetary</th>\n",
       "      <th>R</th>\n",
       "      <th>F</th>\n",
       "      <th>M</th>\n",
       "      <th>RFM Score</th>\n",
       "      <th>Segment</th>\n",
       "    </tr>\n",
       "    <tr>\n",
       "      <th>CustomerID</th>\n",
       "      <th></th>\n",
       "      <th></th>\n",
       "      <th></th>\n",
       "      <th></th>\n",
       "      <th></th>\n",
       "      <th></th>\n",
       "      <th></th>\n",
       "      <th></th>\n",
       "    </tr>\n",
       "  </thead>\n",
       "  <tbody>\n",
       "    <tr>\n",
       "      <th>13001.0</th>\n",
       "      <td>4</td>\n",
       "      <td>339</td>\n",
       "      <td>9818</td>\n",
       "      <td>5</td>\n",
       "      <td>5</td>\n",
       "      <td>5</td>\n",
       "      <td>555</td>\n",
       "      <td>champions</td>\n",
       "    </tr>\n",
       "    <tr>\n",
       "      <th>13199.0</th>\n",
       "      <td>3</td>\n",
       "      <td>119</td>\n",
       "      <td>9817</td>\n",
       "      <td>5</td>\n",
       "      <td>5</td>\n",
       "      <td>5</td>\n",
       "      <td>555</td>\n",
       "      <td>champions</td>\n",
       "    </tr>\n",
       "    <tr>\n",
       "      <th>15078.0</th>\n",
       "      <td>7</td>\n",
       "      <td>440</td>\n",
       "      <td>9743</td>\n",
       "      <td>5</td>\n",
       "      <td>5</td>\n",
       "      <td>5</td>\n",
       "      <td>555</td>\n",
       "      <td>champions</td>\n",
       "    </tr>\n",
       "    <tr>\n",
       "      <th>13458.0</th>\n",
       "      <td>7</td>\n",
       "      <td>382</td>\n",
       "      <td>9646</td>\n",
       "      <td>5</td>\n",
       "      <td>5</td>\n",
       "      <td>5</td>\n",
       "      <td>555</td>\n",
       "      <td>champions</td>\n",
       "    </tr>\n",
       "    <tr>\n",
       "      <th>16523.0</th>\n",
       "      <td>1</td>\n",
       "      <td>290</td>\n",
       "      <td>9418</td>\n",
       "      <td>5</td>\n",
       "      <td>5</td>\n",
       "      <td>5</td>\n",
       "      <td>555</td>\n",
       "      <td>champions</td>\n",
       "    </tr>\n",
       "  </tbody>\n",
       "</table>\n",
       "</div>"
      ],
      "text/plain": [
       "            recency  frequency  monetary  R  F  M RFM Score    Segment\n",
       "CustomerID                                                            \n",
       "13001.0           4        339      9818  5  5  5       555  champions\n",
       "13199.0           3        119      9817  5  5  5       555  champions\n",
       "15078.0           7        440      9743  5  5  5       555  champions\n",
       "13458.0           7        382      9646  5  5  5       555  champions\n",
       "16523.0           1        290      9418  5  5  5       555  champions"
      ]
     },
     "execution_count": 52,
     "metadata": {},
     "output_type": "execute_result"
    }
   ],
   "source": [
    "rfm[rfm['RFM Score']=='555'].sort_values('monetary', ascending=False).head()"
   ]
  },
  {
   "cell_type": "markdown",
   "id": "8d617ebf",
   "metadata": {},
   "source": [
    "## Q13. Which customers are likely to churn?"
   ]
  },
  {
   "cell_type": "markdown",
   "id": "3bca3e16",
   "metadata": {},
   "source": [
    "## A13. The customers in the category of 'need attention' are the ones who are likely to churn."
   ]
  },
  {
   "cell_type": "code",
   "execution_count": 53,
   "id": "3161eef0",
   "metadata": {},
   "outputs": [
    {
     "data": {
      "text/html": [
       "<div>\n",
       "<style scoped>\n",
       "    .dataframe tbody tr th:only-of-type {\n",
       "        vertical-align: middle;\n",
       "    }\n",
       "\n",
       "    .dataframe tbody tr th {\n",
       "        vertical-align: top;\n",
       "    }\n",
       "\n",
       "    .dataframe thead th {\n",
       "        text-align: right;\n",
       "    }\n",
       "</style>\n",
       "<table border=\"1\" class=\"dataframe\">\n",
       "  <thead>\n",
       "    <tr style=\"text-align: right;\">\n",
       "      <th></th>\n",
       "      <th>recency</th>\n",
       "      <th>frequency</th>\n",
       "      <th>monetary</th>\n",
       "      <th>R</th>\n",
       "      <th>F</th>\n",
       "      <th>M</th>\n",
       "      <th>RFM Score</th>\n",
       "      <th>Segment</th>\n",
       "    </tr>\n",
       "    <tr>\n",
       "      <th>CustomerID</th>\n",
       "      <th></th>\n",
       "      <th></th>\n",
       "      <th></th>\n",
       "      <th></th>\n",
       "      <th></th>\n",
       "      <th></th>\n",
       "      <th></th>\n",
       "      <th></th>\n",
       "    </tr>\n",
       "  </thead>\n",
       "  <tbody>\n",
       "    <tr>\n",
       "      <th>13093.0</th>\n",
       "      <td>275</td>\n",
       "      <td>159</td>\n",
       "      <td>7832</td>\n",
       "      <td>1</td>\n",
       "      <td>5</td>\n",
       "      <td>5</td>\n",
       "      <td>155</td>\n",
       "      <td>can't lose</td>\n",
       "    </tr>\n",
       "    <tr>\n",
       "      <th>17850.0</th>\n",
       "      <td>372</td>\n",
       "      <td>297</td>\n",
       "      <td>5391</td>\n",
       "      <td>1</td>\n",
       "      <td>5</td>\n",
       "      <td>5</td>\n",
       "      <td>155</td>\n",
       "      <td>can't lose</td>\n",
       "    </tr>\n",
       "    <tr>\n",
       "      <th>15032.0</th>\n",
       "      <td>256</td>\n",
       "      <td>52</td>\n",
       "      <td>4959</td>\n",
       "      <td>1</td>\n",
       "      <td>3</td>\n",
       "      <td>5</td>\n",
       "      <td>135</td>\n",
       "      <td>at risk</td>\n",
       "    </tr>\n",
       "    <tr>\n",
       "      <th>15808.0</th>\n",
       "      <td>306</td>\n",
       "      <td>208</td>\n",
       "      <td>3734</td>\n",
       "      <td>1</td>\n",
       "      <td>5</td>\n",
       "      <td>5</td>\n",
       "      <td>155</td>\n",
       "      <td>can't lose</td>\n",
       "    </tr>\n",
       "    <tr>\n",
       "      <th>17230.0</th>\n",
       "      <td>264</td>\n",
       "      <td>69</td>\n",
       "      <td>3638</td>\n",
       "      <td>1</td>\n",
       "      <td>4</td>\n",
       "      <td>5</td>\n",
       "      <td>145</td>\n",
       "      <td>at risk</td>\n",
       "    </tr>\n",
       "  </tbody>\n",
       "</table>\n",
       "</div>"
      ],
      "text/plain": [
       "            recency  frequency  monetary  R  F  M RFM Score     Segment\n",
       "CustomerID                                                             \n",
       "13093.0         275        159      7832  1  5  5       155  can't lose\n",
       "17850.0         372        297      5391  1  5  5       155  can't lose\n",
       "15032.0         256         52      4959  1  3  5       135     at risk\n",
       "15808.0         306        208      3734  1  5  5       155  can't lose\n",
       "17230.0         264         69      3638  1  4  5       145     at risk"
      ]
     },
     "execution_count": 53,
     "metadata": {},
     "output_type": "execute_result"
    }
   ],
   "source": [
    "# Customers who's recency value is low\n",
    "\n",
    "rfm[rfm['R'] <= 1 ].sort_values('monetary', ascending=False).head()"
   ]
  },
  {
   "cell_type": "markdown",
   "id": "98409c06",
   "metadata": {},
   "source": [
    "## Q14. Which customers we are going to lose?"
   ]
  },
  {
   "cell_type": "markdown",
   "id": "2b532513",
   "metadata": {},
   "source": [
    "## A14. The customers in the category of 'at risk' are the ones who are likely to churn."
   ]
  },
  {
   "cell_type": "code",
   "execution_count": 54,
   "id": "b0dd9e3f",
   "metadata": {},
   "outputs": [
    {
     "data": {
      "text/html": [
       "<div>\n",
       "<style scoped>\n",
       "    .dataframe tbody tr th:only-of-type {\n",
       "        vertical-align: middle;\n",
       "    }\n",
       "\n",
       "    .dataframe tbody tr th {\n",
       "        vertical-align: top;\n",
       "    }\n",
       "\n",
       "    .dataframe thead th {\n",
       "        text-align: right;\n",
       "    }\n",
       "</style>\n",
       "<table border=\"1\" class=\"dataframe\">\n",
       "  <thead>\n",
       "    <tr style=\"text-align: right;\">\n",
       "      <th></th>\n",
       "      <th>recency</th>\n",
       "      <th>frequency</th>\n",
       "      <th>monetary</th>\n",
       "      <th>R</th>\n",
       "      <th>F</th>\n",
       "      <th>M</th>\n",
       "      <th>RFM Score</th>\n",
       "      <th>Segment</th>\n",
       "    </tr>\n",
       "    <tr>\n",
       "      <th>CustomerID</th>\n",
       "      <th></th>\n",
       "      <th></th>\n",
       "      <th></th>\n",
       "      <th></th>\n",
       "      <th></th>\n",
       "      <th></th>\n",
       "      <th></th>\n",
       "      <th></th>\n",
       "    </tr>\n",
       "  </thead>\n",
       "  <tbody>\n",
       "    <tr>\n",
       "      <th>14237.0</th>\n",
       "      <td>373</td>\n",
       "      <td>9</td>\n",
       "      <td>161</td>\n",
       "      <td>1</td>\n",
       "      <td>1</td>\n",
       "      <td>1</td>\n",
       "      <td>111</td>\n",
       "      <td>at risk</td>\n",
       "    </tr>\n",
       "    <tr>\n",
       "      <th>17643.0</th>\n",
       "      <td>373</td>\n",
       "      <td>8</td>\n",
       "      <td>101</td>\n",
       "      <td>1</td>\n",
       "      <td>1</td>\n",
       "      <td>1</td>\n",
       "      <td>111</td>\n",
       "      <td>at risk</td>\n",
       "    </tr>\n",
       "    <tr>\n",
       "      <th>15350.0</th>\n",
       "      <td>373</td>\n",
       "      <td>5</td>\n",
       "      <td>115</td>\n",
       "      <td>1</td>\n",
       "      <td>1</td>\n",
       "      <td>1</td>\n",
       "      <td>111</td>\n",
       "      <td>at risk</td>\n",
       "    </tr>\n",
       "    <tr>\n",
       "      <th>13747.0</th>\n",
       "      <td>373</td>\n",
       "      <td>1</td>\n",
       "      <td>79</td>\n",
       "      <td>1</td>\n",
       "      <td>1</td>\n",
       "      <td>1</td>\n",
       "      <td>111</td>\n",
       "      <td>at risk</td>\n",
       "    </tr>\n",
       "    <tr>\n",
       "      <th>15070.0</th>\n",
       "      <td>372</td>\n",
       "      <td>1</td>\n",
       "      <td>106</td>\n",
       "      <td>1</td>\n",
       "      <td>1</td>\n",
       "      <td>1</td>\n",
       "      <td>111</td>\n",
       "      <td>at risk</td>\n",
       "    </tr>\n",
       "  </tbody>\n",
       "</table>\n",
       "</div>"
      ],
      "text/plain": [
       "            recency  frequency  monetary  R  F  M RFM Score  Segment\n",
       "CustomerID                                                          \n",
       "14237.0         373          9       161  1  1  1       111  at risk\n",
       "17643.0         373          8       101  1  1  1       111  at risk\n",
       "15350.0         373          5       115  1  1  1       111  at risk\n",
       "13747.0         373          1        79  1  1  1       111  at risk\n",
       "15070.0         372          1       106  1  1  1       111  at risk"
      ]
     },
     "execution_count": 54,
     "metadata": {},
     "output_type": "execute_result"
    }
   ],
   "source": [
    "# Customers who's recency, frequency and monetary values are low \n",
    "\n",
    "rfm[rfm['RFM Score']=='111'].sort_values('recency',ascending=False).head()"
   ]
  },
  {
   "cell_type": "markdown",
   "id": "38da368e",
   "metadata": {},
   "source": [
    "## Q15. Who are the loyal customers?"
   ]
  },
  {
   "cell_type": "markdown",
   "id": "6003f0c5",
   "metadata": {},
   "source": [
    "## A15. The customers in the segment of champions and loyal cutomers with RFM value of 4 or 5 in each are loyal customers."
   ]
  },
  {
   "cell_type": "code",
   "execution_count": 55,
   "id": "6122daf0",
   "metadata": {},
   "outputs": [
    {
     "data": {
      "text/html": [
       "<div>\n",
       "<style scoped>\n",
       "    .dataframe tbody tr th:only-of-type {\n",
       "        vertical-align: middle;\n",
       "    }\n",
       "\n",
       "    .dataframe tbody tr th {\n",
       "        vertical-align: top;\n",
       "    }\n",
       "\n",
       "    .dataframe thead th {\n",
       "        text-align: right;\n",
       "    }\n",
       "</style>\n",
       "<table border=\"1\" class=\"dataframe\">\n",
       "  <thead>\n",
       "    <tr style=\"text-align: right;\">\n",
       "      <th></th>\n",
       "      <th>recency</th>\n",
       "      <th>frequency</th>\n",
       "      <th>monetary</th>\n",
       "      <th>R</th>\n",
       "      <th>F</th>\n",
       "      <th>M</th>\n",
       "      <th>RFM Score</th>\n",
       "      <th>Segment</th>\n",
       "    </tr>\n",
       "    <tr>\n",
       "      <th>CustomerID</th>\n",
       "      <th></th>\n",
       "      <th></th>\n",
       "      <th></th>\n",
       "      <th></th>\n",
       "      <th></th>\n",
       "      <th></th>\n",
       "      <th></th>\n",
       "      <th></th>\n",
       "    </tr>\n",
       "  </thead>\n",
       "  <tbody>\n",
       "    <tr>\n",
       "      <th>13001.0</th>\n",
       "      <td>4</td>\n",
       "      <td>339</td>\n",
       "      <td>9818</td>\n",
       "      <td>5</td>\n",
       "      <td>5</td>\n",
       "      <td>5</td>\n",
       "      <td>555</td>\n",
       "      <td>champions</td>\n",
       "    </tr>\n",
       "    <tr>\n",
       "      <th>13199.0</th>\n",
       "      <td>3</td>\n",
       "      <td>119</td>\n",
       "      <td>9817</td>\n",
       "      <td>5</td>\n",
       "      <td>5</td>\n",
       "      <td>5</td>\n",
       "      <td>555</td>\n",
       "      <td>champions</td>\n",
       "    </tr>\n",
       "    <tr>\n",
       "      <th>15078.0</th>\n",
       "      <td>7</td>\n",
       "      <td>440</td>\n",
       "      <td>9743</td>\n",
       "      <td>5</td>\n",
       "      <td>5</td>\n",
       "      <td>5</td>\n",
       "      <td>555</td>\n",
       "      <td>champions</td>\n",
       "    </tr>\n",
       "    <tr>\n",
       "      <th>13458.0</th>\n",
       "      <td>7</td>\n",
       "      <td>382</td>\n",
       "      <td>9646</td>\n",
       "      <td>5</td>\n",
       "      <td>5</td>\n",
       "      <td>5</td>\n",
       "      <td>555</td>\n",
       "      <td>champions</td>\n",
       "    </tr>\n",
       "    <tr>\n",
       "      <th>14733.0</th>\n",
       "      <td>16</td>\n",
       "      <td>202</td>\n",
       "      <td>9585</td>\n",
       "      <td>4</td>\n",
       "      <td>5</td>\n",
       "      <td>5</td>\n",
       "      <td>455</td>\n",
       "      <td>loyal customers</td>\n",
       "    </tr>\n",
       "  </tbody>\n",
       "</table>\n",
       "</div>"
      ],
      "text/plain": [
       "            recency  frequency  monetary  R  F  M RFM Score          Segment\n",
       "CustomerID                                                                  \n",
       "13001.0           4        339      9818  5  5  5       555        champions\n",
       "13199.0           3        119      9817  5  5  5       555        champions\n",
       "15078.0           7        440      9743  5  5  5       555        champions\n",
       "13458.0           7        382      9646  5  5  5       555        champions\n",
       "14733.0          16        202      9585  4  5  5       455  loyal customers"
      ]
     },
     "execution_count": 55,
     "metadata": {},
     "output_type": "execute_result"
    }
   ],
   "source": [
    "# Customers with high frequency value\n",
    "\n",
    "rfm[rfm['F'] >= 3 ].sort_values('monetary', ascending=False).head()"
   ]
  },
  {
   "cell_type": "markdown",
   "id": "264119e7",
   "metadata": {},
   "source": [
    "## Calculate RFM scores using 4 quintiles instead of 5 and answer all the questions again\n",
    "\n",
    "- Make sure you give proper names to the segments. Please create 4 segments based on R and F scores instead of 6"
   ]
  },
  {
   "cell_type": "code",
   "execution_count": 56,
   "id": "8b46435c",
   "metadata": {},
   "outputs": [
    {
     "data": {
      "text/plain": [
       "{'recency': {0.25: 18.0, 0.5: 51.5, 0.75: 147.0},\n",
       " 'frequency': {0.25: 16.0, 0.5: 40.0, 0.75: 95.0},\n",
       " 'monetary': {0.25: 293.0, 0.5: 628.0, 0.75: 1476.0}}"
      ]
     },
     "execution_count": 56,
     "metadata": {},
     "output_type": "execute_result"
    }
   ],
   "source": [
    "# Use quintiles to to make 5 equal parts based on the available values. Each quintiles contains 20% of the population. \n",
    "rfm = pd.read_csv('rfm.csv')\n",
    "\n",
    "quintiles = rfm[['recency', 'frequency', 'monetary']].quantile([.25, .50, .75]).to_dict()\n",
    "quintiles"
   ]
  },
  {
   "cell_type": "code",
   "execution_count": 57,
   "id": "a4e89860",
   "metadata": {},
   "outputs": [],
   "source": [
    "# Define functions to assign ranks from 1 to 4. \n",
    "# A lower Recency value is better and higher Frequency and Monetary values are better. \n",
    "# We will have to write two separate functions\n",
    "\n",
    "def r_score(x):\n",
    "    if x <= quintiles['recency'][.25]:\n",
    "        return 4\n",
    "    elif x <= quintiles['recency'][.50]:\n",
    "        return 3\n",
    "    elif x <= quintiles['recency'][.75]:\n",
    "        return 2\n",
    "    else:\n",
    "        return 1\n",
    "    \n",
    "def fm_score(x, c):\n",
    "    if x <= quintiles[c][.25]:\n",
    "        return 1\n",
    "    elif x <= quintiles[c][.50]:\n",
    "        return 2\n",
    "    elif x <= quintiles[c][.75]:\n",
    "        return 3\n",
    "    else:\n",
    "        return 4 "
   ]
  },
  {
   "cell_type": "code",
   "execution_count": 58,
   "id": "fb8115a7",
   "metadata": {},
   "outputs": [],
   "source": [
    "# Calculate RFM score for each customer\n",
    "\n",
    "rfm['R'] = rfm['recency'].apply(lambda x: r_score(x))\n",
    "rfm['F'] = rfm['frequency'].apply(lambda x: fm_score(x, 'frequency'))\n",
    "rfm['M'] = rfm['monetary'].apply(lambda x: fm_score(x, 'monetary'))"
   ]
  },
  {
   "cell_type": "code",
   "execution_count": 59,
   "id": "3797b9e5",
   "metadata": {
    "scrolled": true
   },
   "outputs": [
    {
     "data": {
      "text/html": [
       "<div>\n",
       "<style scoped>\n",
       "    .dataframe tbody tr th:only-of-type {\n",
       "        vertical-align: middle;\n",
       "    }\n",
       "\n",
       "    .dataframe tbody tr th {\n",
       "        vertical-align: top;\n",
       "    }\n",
       "\n",
       "    .dataframe thead th {\n",
       "        text-align: right;\n",
       "    }\n",
       "</style>\n",
       "<table border=\"1\" class=\"dataframe\">\n",
       "  <thead>\n",
       "    <tr style=\"text-align: right;\">\n",
       "      <th></th>\n",
       "      <th>CustomerID</th>\n",
       "      <th>recency</th>\n",
       "      <th>frequency</th>\n",
       "      <th>monetary</th>\n",
       "      <th>R</th>\n",
       "      <th>F</th>\n",
       "      <th>M</th>\n",
       "      <th>RFM Score</th>\n",
       "    </tr>\n",
       "  </thead>\n",
       "  <tbody>\n",
       "    <tr>\n",
       "      <th>0</th>\n",
       "      <td>13256.0</td>\n",
       "      <td>14</td>\n",
       "      <td>1</td>\n",
       "      <td>0</td>\n",
       "      <td>4</td>\n",
       "      <td>1</td>\n",
       "      <td>1</td>\n",
       "      <td>411</td>\n",
       "    </tr>\n",
       "    <tr>\n",
       "      <th>1</th>\n",
       "      <td>16738.0</td>\n",
       "      <td>297</td>\n",
       "      <td>1</td>\n",
       "      <td>3</td>\n",
       "      <td>1</td>\n",
       "      <td>1</td>\n",
       "      <td>1</td>\n",
       "      <td>111</td>\n",
       "    </tr>\n",
       "    <tr>\n",
       "      <th>2</th>\n",
       "      <td>16454.0</td>\n",
       "      <td>44</td>\n",
       "      <td>2</td>\n",
       "      <td>6</td>\n",
       "      <td>3</td>\n",
       "      <td>1</td>\n",
       "      <td>1</td>\n",
       "      <td>311</td>\n",
       "    </tr>\n",
       "    <tr>\n",
       "      <th>3</th>\n",
       "      <td>14792.0</td>\n",
       "      <td>63</td>\n",
       "      <td>2</td>\n",
       "      <td>6</td>\n",
       "      <td>2</td>\n",
       "      <td>1</td>\n",
       "      <td>1</td>\n",
       "      <td>211</td>\n",
       "    </tr>\n",
       "    <tr>\n",
       "      <th>4</th>\n",
       "      <td>17956.0</td>\n",
       "      <td>249</td>\n",
       "      <td>1</td>\n",
       "      <td>12</td>\n",
       "      <td>1</td>\n",
       "      <td>1</td>\n",
       "      <td>1</td>\n",
       "      <td>111</td>\n",
       "    </tr>\n",
       "  </tbody>\n",
       "</table>\n",
       "</div>"
      ],
      "text/plain": [
       "   CustomerID  recency  frequency  monetary  R  F  M RFM Score\n",
       "0     13256.0       14          1         0  4  1  1       411\n",
       "1     16738.0      297          1         3  1  1  1       111\n",
       "2     16454.0       44          2         6  3  1  1       311\n",
       "3     14792.0       63          2         6  2  1  1       211\n",
       "4     17956.0      249          1        12  1  1  1       111"
      ]
     },
     "execution_count": 59,
     "metadata": {},
     "output_type": "execute_result"
    }
   ],
   "source": [
    "# Combine the scores\n",
    "\n",
    "rfm['RFM Score'] = rfm['R'].map(str) + rfm['F'].map(str) + rfm['M'].map(str)\n",
    "rfm.head()"
   ]
  },
  {
   "cell_type": "code",
   "execution_count": 60,
   "id": "76b78224",
   "metadata": {},
   "outputs": [
    {
     "data": {
      "text/html": [
       "<div>\n",
       "<style scoped>\n",
       "    .dataframe tbody tr th:only-of-type {\n",
       "        vertical-align: middle;\n",
       "    }\n",
       "\n",
       "    .dataframe tbody tr th {\n",
       "        vertical-align: top;\n",
       "    }\n",
       "\n",
       "    .dataframe thead th {\n",
       "        text-align: right;\n",
       "    }\n",
       "</style>\n",
       "<table border=\"1\" class=\"dataframe\">\n",
       "  <thead>\n",
       "    <tr style=\"text-align: right;\">\n",
       "      <th></th>\n",
       "      <th>CustomerID</th>\n",
       "      <th>recency</th>\n",
       "      <th>frequency</th>\n",
       "      <th>monetary</th>\n",
       "      <th>R</th>\n",
       "      <th>F</th>\n",
       "      <th>M</th>\n",
       "      <th>RFM Score</th>\n",
       "      <th>Segment</th>\n",
       "    </tr>\n",
       "  </thead>\n",
       "  <tbody>\n",
       "    <tr>\n",
       "      <th>0</th>\n",
       "      <td>13256.0</td>\n",
       "      <td>14</td>\n",
       "      <td>1</td>\n",
       "      <td>0</td>\n",
       "      <td>4</td>\n",
       "      <td>1</td>\n",
       "      <td>1</td>\n",
       "      <td>411</td>\n",
       "      <td>new but not frequent-watch</td>\n",
       "    </tr>\n",
       "    <tr>\n",
       "      <th>1</th>\n",
       "      <td>16738.0</td>\n",
       "      <td>297</td>\n",
       "      <td>1</td>\n",
       "      <td>3</td>\n",
       "      <td>1</td>\n",
       "      <td>1</td>\n",
       "      <td>1</td>\n",
       "      <td>111</td>\n",
       "      <td>old but not frequent-risk</td>\n",
       "    </tr>\n",
       "    <tr>\n",
       "      <th>2</th>\n",
       "      <td>16454.0</td>\n",
       "      <td>44</td>\n",
       "      <td>2</td>\n",
       "      <td>6</td>\n",
       "      <td>3</td>\n",
       "      <td>1</td>\n",
       "      <td>1</td>\n",
       "      <td>311</td>\n",
       "      <td>new but not frequent-watch</td>\n",
       "    </tr>\n",
       "    <tr>\n",
       "      <th>3</th>\n",
       "      <td>14792.0</td>\n",
       "      <td>63</td>\n",
       "      <td>2</td>\n",
       "      <td>6</td>\n",
       "      <td>2</td>\n",
       "      <td>1</td>\n",
       "      <td>1</td>\n",
       "      <td>211</td>\n",
       "      <td>old but not frequent-risk</td>\n",
       "    </tr>\n",
       "    <tr>\n",
       "      <th>4</th>\n",
       "      <td>17956.0</td>\n",
       "      <td>249</td>\n",
       "      <td>1</td>\n",
       "      <td>12</td>\n",
       "      <td>1</td>\n",
       "      <td>1</td>\n",
       "      <td>1</td>\n",
       "      <td>111</td>\n",
       "      <td>old but not frequent-risk</td>\n",
       "    </tr>\n",
       "  </tbody>\n",
       "</table>\n",
       "</div>"
      ],
      "text/plain": [
       "   CustomerID  recency  frequency  monetary  R  F  M RFM Score  \\\n",
       "0     13256.0       14          1         0  4  1  1       411   \n",
       "1     16738.0      297          1         3  1  1  1       111   \n",
       "2     16454.0       44          2         6  3  1  1       311   \n",
       "3     14792.0       63          2         6  2  1  1       211   \n",
       "4     17956.0      249          1        12  1  1  1       111   \n",
       "\n",
       "                      Segment  \n",
       "0  new but not frequent-watch  \n",
       "1   old but not frequent-risk  \n",
       "2  new but not frequent-watch  \n",
       "3   old but not frequent-risk  \n",
       "4   old but not frequent-risk  "
      ]
     },
     "execution_count": 60,
     "metadata": {},
     "output_type": "execute_result"
    }
   ],
   "source": [
    "# Create the customer segments based on your knowledge. \n",
    "# Create 5 segments based on R and F scores\n",
    "\n",
    "segments = {\n",
    "    '[1-2][1-2]': 'old but not frequent-risk',\n",
    "    '[3-4][1-2]': 'new but not frequent-watch',\n",
    "    '[1-2][3-4]': 'old and frequent-best',\n",
    "    '[3-4][3-4]': 'new and frequent-potential'\n",
    "}\n",
    "\n",
    "rfm['Segment'] = rfm['R'].map(str) + rfm['F'].map(str)\n",
    "rfm['Segment'] = rfm['Segment'].replace(segments, regex=True)\n",
    "rfm.head()"
   ]
  },
  {
   "cell_type": "code",
   "execution_count": 61,
   "id": "b43a0185",
   "metadata": {},
   "outputs": [
    {
     "data": {
      "text/plain": [
       "old and frequent-best          600\n",
       "new but not frequent-watch     627\n",
       "new and frequent-potential    1291\n",
       "old but not frequent-risk     1318\n",
       "Name: Segment, dtype: int64"
      ]
     },
     "execution_count": 61,
     "metadata": {},
     "output_type": "execute_result"
    }
   ],
   "source": [
    "# Count the number of customers in each segment\n",
    "\n",
    "segments_counts = rfm['Segment'].value_counts().sort_values(ascending=True)\n",
    "\n",
    "segments_counts"
   ]
  },
  {
   "cell_type": "code",
   "execution_count": 62,
   "id": "635af4b6",
   "metadata": {},
   "outputs": [
    {
     "data": {
      "image/png": "[encoded data removed]",
      "text/plain": [
       "<Figure size 432x288 with 1 Axes>"
      ]
     },
     "metadata": {
      "needs_background": "light"
     },
     "output_type": "display_data"
    }
   ],
   "source": [
    "# Distribution of Segments\n",
    "\n",
    "fig, ax = plt.subplots()\n",
    "\n",
    "bars = ax.barh(range(len(segments_counts)),\n",
    "              segments_counts,\n",
    "              color='gray')\n",
    "ax.set_frame_on(False)\n",
    "ax.tick_params(left=False,\n",
    "               bottom=False,\n",
    "               labelbottom=False)\n",
    "ax.set_yticks(range(len(segments_counts)))\n",
    "ax.set_yticklabels(segments_counts.index)\n",
    "\n",
    "for i, bar in enumerate(bars):\n",
    "        value = bar.get_width()\n",
    "        if segments_counts.index[i] in ['new and frequent-potential', 'old and frequent-best']:\n",
    "            bar.set_color('green')\n",
    "        ax.text(value,\n",
    "                bar.get_y() + bar.get_height()/2,\n",
    "                '{:,} ({:}%)'.format(int(value),\n",
    "                                   int(value*100/segments_counts.sum())),\n",
    "                va='center',\n",
    "                ha='left'\n",
    "               )\n",
    "\n",
    "plt.show()"
   ]
  },
  {
   "cell_type": "markdown",
   "id": "b5be8f55",
   "metadata": {},
   "source": [
    "## Q16. Comment on the above chart"
   ]
  },
  {
   "cell_type": "markdown",
   "id": "32e3b312",
   "metadata": {},
   "source": [
    "## A16. Based on RFM score we can see that from the total customers we have 48% customers that are our best and most potential customers, whereas 34% are the ones at the verge of moving away and 16% needs attention to add them to the 45% segment. "
   ]
  },
  {
   "cell_type": "markdown",
   "id": "311c2150",
   "metadata": {},
   "source": [
    "## Q17. Who are the best customers?"
   ]
  },
  {
   "cell_type": "markdown",
   "id": "fb355186",
   "metadata": {},
   "source": [
    "## A17.  The customers in the category of 'new and frequent-best' with RFM score of 4 in each are the best customers."
   ]
  },
  {
   "cell_type": "code",
   "execution_count": 63,
   "id": "3dea8fa4",
   "metadata": {},
   "outputs": [
    {
     "data": {
      "text/html": [
       "<div>\n",
       "<style scoped>\n",
       "    .dataframe tbody tr th:only-of-type {\n",
       "        vertical-align: middle;\n",
       "    }\n",
       "\n",
       "    .dataframe tbody tr th {\n",
       "        vertical-align: top;\n",
       "    }\n",
       "\n",
       "    .dataframe thead th {\n",
       "        text-align: right;\n",
       "    }\n",
       "</style>\n",
       "<table border=\"1\" class=\"dataframe\">\n",
       "  <thead>\n",
       "    <tr style=\"text-align: right;\">\n",
       "      <th></th>\n",
       "      <th>CustomerID</th>\n",
       "      <th>recency</th>\n",
       "      <th>frequency</th>\n",
       "      <th>monetary</th>\n",
       "      <th>R</th>\n",
       "      <th>F</th>\n",
       "      <th>M</th>\n",
       "      <th>RFM Score</th>\n",
       "      <th>Segment</th>\n",
       "    </tr>\n",
       "  </thead>\n",
       "  <tbody>\n",
       "    <tr>\n",
       "      <th>3835</th>\n",
       "      <td>13001.0</td>\n",
       "      <td>4</td>\n",
       "      <td>339</td>\n",
       "      <td>9818</td>\n",
       "      <td>4</td>\n",
       "      <td>4</td>\n",
       "      <td>4</td>\n",
       "      <td>444</td>\n",
       "      <td>new and frequent-potential</td>\n",
       "    </tr>\n",
       "    <tr>\n",
       "      <th>3834</th>\n",
       "      <td>13199.0</td>\n",
       "      <td>3</td>\n",
       "      <td>119</td>\n",
       "      <td>9817</td>\n",
       "      <td>4</td>\n",
       "      <td>4</td>\n",
       "      <td>4</td>\n",
       "      <td>444</td>\n",
       "      <td>new and frequent-potential</td>\n",
       "    </tr>\n",
       "    <tr>\n",
       "      <th>3833</th>\n",
       "      <td>15078.0</td>\n",
       "      <td>7</td>\n",
       "      <td>440</td>\n",
       "      <td>9743</td>\n",
       "      <td>4</td>\n",
       "      <td>4</td>\n",
       "      <td>4</td>\n",
       "      <td>444</td>\n",
       "      <td>new and frequent-potential</td>\n",
       "    </tr>\n",
       "    <tr>\n",
       "      <th>3832</th>\n",
       "      <td>13458.0</td>\n",
       "      <td>7</td>\n",
       "      <td>382</td>\n",
       "      <td>9646</td>\n",
       "      <td>4</td>\n",
       "      <td>4</td>\n",
       "      <td>4</td>\n",
       "      <td>444</td>\n",
       "      <td>new and frequent-potential</td>\n",
       "    </tr>\n",
       "    <tr>\n",
       "      <th>3831</th>\n",
       "      <td>14733.0</td>\n",
       "      <td>16</td>\n",
       "      <td>202</td>\n",
       "      <td>9585</td>\n",
       "      <td>4</td>\n",
       "      <td>4</td>\n",
       "      <td>4</td>\n",
       "      <td>444</td>\n",
       "      <td>new and frequent-potential</td>\n",
       "    </tr>\n",
       "  </tbody>\n",
       "</table>\n",
       "</div>"
      ],
      "text/plain": [
       "      CustomerID  recency  frequency  monetary  R  F  M RFM Score  \\\n",
       "3835     13001.0        4        339      9818  4  4  4       444   \n",
       "3834     13199.0        3        119      9817  4  4  4       444   \n",
       "3833     15078.0        7        440      9743  4  4  4       444   \n",
       "3832     13458.0        7        382      9646  4  4  4       444   \n",
       "3831     14733.0       16        202      9585  4  4  4       444   \n",
       "\n",
       "                         Segment  \n",
       "3835  new and frequent-potential  \n",
       "3834  new and frequent-potential  \n",
       "3833  new and frequent-potential  \n",
       "3832  new and frequent-potential  \n",
       "3831  new and frequent-potential  "
      ]
     },
     "execution_count": 63,
     "metadata": {},
     "output_type": "execute_result"
    }
   ],
   "source": [
    "rfm[rfm['RFM Score']=='444'].sort_values('monetary', ascending=False).head()"
   ]
  },
  {
   "cell_type": "markdown",
   "id": "d416f049",
   "metadata": {},
   "source": [
    "## Q18. Which customers are likely to churn?"
   ]
  },
  {
   "cell_type": "markdown",
   "id": "1f29a0aa",
   "metadata": {},
   "source": [
    "## A18. The customers in the category of 'new but not potential-watch' are the ones who are likely to churn."
   ]
  },
  {
   "cell_type": "code",
   "execution_count": 64,
   "id": "e75e73b7",
   "metadata": {},
   "outputs": [
    {
     "data": {
      "text/html": [
       "<div>\n",
       "<style scoped>\n",
       "    .dataframe tbody tr th:only-of-type {\n",
       "        vertical-align: middle;\n",
       "    }\n",
       "\n",
       "    .dataframe tbody tr th {\n",
       "        vertical-align: top;\n",
       "    }\n",
       "\n",
       "    .dataframe thead th {\n",
       "        text-align: right;\n",
       "    }\n",
       "</style>\n",
       "<table border=\"1\" class=\"dataframe\">\n",
       "  <thead>\n",
       "    <tr style=\"text-align: right;\">\n",
       "      <th></th>\n",
       "      <th>CustomerID</th>\n",
       "      <th>recency</th>\n",
       "      <th>frequency</th>\n",
       "      <th>monetary</th>\n",
       "      <th>R</th>\n",
       "      <th>F</th>\n",
       "      <th>M</th>\n",
       "      <th>RFM Score</th>\n",
       "      <th>Segment</th>\n",
       "    </tr>\n",
       "  </thead>\n",
       "  <tbody>\n",
       "    <tr>\n",
       "      <th>3805</th>\n",
       "      <td>13093.0</td>\n",
       "      <td>275</td>\n",
       "      <td>159</td>\n",
       "      <td>7832</td>\n",
       "      <td>1</td>\n",
       "      <td>4</td>\n",
       "      <td>4</td>\n",
       "      <td>144</td>\n",
       "      <td>old and frequent-best</td>\n",
       "    </tr>\n",
       "    <tr>\n",
       "      <th>3799</th>\n",
       "      <td>12980.0</td>\n",
       "      <td>157</td>\n",
       "      <td>20</td>\n",
       "      <td>7374</td>\n",
       "      <td>1</td>\n",
       "      <td>2</td>\n",
       "      <td>4</td>\n",
       "      <td>124</td>\n",
       "      <td>old but not frequent-risk</td>\n",
       "    </tr>\n",
       "    <tr>\n",
       "      <th>3739</th>\n",
       "      <td>16553.0</td>\n",
       "      <td>163</td>\n",
       "      <td>84</td>\n",
       "      <td>5719</td>\n",
       "      <td>1</td>\n",
       "      <td>3</td>\n",
       "      <td>4</td>\n",
       "      <td>134</td>\n",
       "      <td>old and frequent-best</td>\n",
       "    </tr>\n",
       "    <tr>\n",
       "      <th>3717</th>\n",
       "      <td>17850.0</td>\n",
       "      <td>372</td>\n",
       "      <td>297</td>\n",
       "      <td>5391</td>\n",
       "      <td>1</td>\n",
       "      <td>4</td>\n",
       "      <td>4</td>\n",
       "      <td>144</td>\n",
       "      <td>old and frequent-best</td>\n",
       "    </tr>\n",
       "    <tr>\n",
       "      <th>3692</th>\n",
       "      <td>15032.0</td>\n",
       "      <td>256</td>\n",
       "      <td>52</td>\n",
       "      <td>4959</td>\n",
       "      <td>1</td>\n",
       "      <td>3</td>\n",
       "      <td>4</td>\n",
       "      <td>134</td>\n",
       "      <td>old and frequent-best</td>\n",
       "    </tr>\n",
       "  </tbody>\n",
       "</table>\n",
       "</div>"
      ],
      "text/plain": [
       "      CustomerID  recency  frequency  monetary  R  F  M RFM Score  \\\n",
       "3805     13093.0      275        159      7832  1  4  4       144   \n",
       "3799     12980.0      157         20      7374  1  2  4       124   \n",
       "3739     16553.0      163         84      5719  1  3  4       134   \n",
       "3717     17850.0      372        297      5391  1  4  4       144   \n",
       "3692     15032.0      256         52      4959  1  3  4       134   \n",
       "\n",
       "                        Segment  \n",
       "3805      old and frequent-best  \n",
       "3799  old but not frequent-risk  \n",
       "3739      old and frequent-best  \n",
       "3717      old and frequent-best  \n",
       "3692      old and frequent-best  "
      ]
     },
     "execution_count": 64,
     "metadata": {},
     "output_type": "execute_result"
    }
   ],
   "source": [
    "# Customers who's recency value is low\n",
    "\n",
    "rfm[rfm['R'] <= 1 ].sort_values('monetary', ascending=False).head()"
   ]
  },
  {
   "cell_type": "markdown",
   "id": "2218b8be",
   "metadata": {},
   "source": [
    "## Q19. Which customers are we going to lose?"
   ]
  },
  {
   "cell_type": "markdown",
   "id": "3e761e26",
   "metadata": {},
   "source": [
    "## A19. The customers in the category of 'old but not potential-risk' are the ones who are going to lose."
   ]
  },
  {
   "cell_type": "code",
   "execution_count": 65,
   "id": "cd3534dd",
   "metadata": {},
   "outputs": [
    {
     "data": {
      "text/html": [
       "<div>\n",
       "<style scoped>\n",
       "    .dataframe tbody tr th:only-of-type {\n",
       "        vertical-align: middle;\n",
       "    }\n",
       "\n",
       "    .dataframe tbody tr th {\n",
       "        vertical-align: top;\n",
       "    }\n",
       "\n",
       "    .dataframe thead th {\n",
       "        text-align: right;\n",
       "    }\n",
       "</style>\n",
       "<table border=\"1\" class=\"dataframe\">\n",
       "  <thead>\n",
       "    <tr style=\"text-align: right;\">\n",
       "      <th></th>\n",
       "      <th>CustomerID</th>\n",
       "      <th>recency</th>\n",
       "      <th>frequency</th>\n",
       "      <th>monetary</th>\n",
       "      <th>R</th>\n",
       "      <th>F</th>\n",
       "      <th>M</th>\n",
       "      <th>RFM Score</th>\n",
       "      <th>Segment</th>\n",
       "    </tr>\n",
       "  </thead>\n",
       "  <tbody>\n",
       "    <tr>\n",
       "      <th>441</th>\n",
       "      <td>14237.0</td>\n",
       "      <td>373</td>\n",
       "      <td>9</td>\n",
       "      <td>161</td>\n",
       "      <td>1</td>\n",
       "      <td>1</td>\n",
       "      <td>1</td>\n",
       "      <td>111</td>\n",
       "      <td>old but not frequent-risk</td>\n",
       "    </tr>\n",
       "    <tr>\n",
       "      <th>639</th>\n",
       "      <td>13065.0</td>\n",
       "      <td>373</td>\n",
       "      <td>14</td>\n",
       "      <td>205</td>\n",
       "      <td>1</td>\n",
       "      <td>1</td>\n",
       "      <td>1</td>\n",
       "      <td>111</td>\n",
       "      <td>old but not frequent-risk</td>\n",
       "    </tr>\n",
       "    <tr>\n",
       "      <th>154</th>\n",
       "      <td>17643.0</td>\n",
       "      <td>373</td>\n",
       "      <td>8</td>\n",
       "      <td>101</td>\n",
       "      <td>1</td>\n",
       "      <td>1</td>\n",
       "      <td>1</td>\n",
       "      <td>111</td>\n",
       "      <td>old but not frequent-risk</td>\n",
       "    </tr>\n",
       "    <tr>\n",
       "      <th>841</th>\n",
       "      <td>16048.0</td>\n",
       "      <td>373</td>\n",
       "      <td>8</td>\n",
       "      <td>256</td>\n",
       "      <td>1</td>\n",
       "      <td>1</td>\n",
       "      <td>1</td>\n",
       "      <td>111</td>\n",
       "      <td>old but not frequent-risk</td>\n",
       "    </tr>\n",
       "    <tr>\n",
       "      <th>97</th>\n",
       "      <td>13747.0</td>\n",
       "      <td>373</td>\n",
       "      <td>1</td>\n",
       "      <td>79</td>\n",
       "      <td>1</td>\n",
       "      <td>1</td>\n",
       "      <td>1</td>\n",
       "      <td>111</td>\n",
       "      <td>old but not frequent-risk</td>\n",
       "    </tr>\n",
       "  </tbody>\n",
       "</table>\n",
       "</div>"
      ],
      "text/plain": [
       "     CustomerID  recency  frequency  monetary  R  F  M RFM Score  \\\n",
       "441     14237.0      373          9       161  1  1  1       111   \n",
       "639     13065.0      373         14       205  1  1  1       111   \n",
       "154     17643.0      373          8       101  1  1  1       111   \n",
       "841     16048.0      373          8       256  1  1  1       111   \n",
       "97      13747.0      373          1        79  1  1  1       111   \n",
       "\n",
       "                       Segment  \n",
       "441  old but not frequent-risk  \n",
       "639  old but not frequent-risk  \n",
       "154  old but not frequent-risk  \n",
       "841  old but not frequent-risk  \n",
       "97   old but not frequent-risk  "
      ]
     },
     "execution_count": 65,
     "metadata": {},
     "output_type": "execute_result"
    }
   ],
   "source": [
    "# Customers who's recency, frequency and monetary values are low \n",
    "\n",
    "rfm[rfm['RFM Score']=='111'].sort_values('recency',ascending=False).head()"
   ]
  },
  {
   "cell_type": "markdown",
   "id": "0687972f",
   "metadata": {},
   "source": [
    "## Q20.  Who are the loyal customers?"
   ]
  },
  {
   "cell_type": "markdown",
   "id": "596b428b",
   "metadata": {},
   "source": [
    "## A20. The customers in the category of 'new and frequent-best' are the ones who are our loyal customers."
   ]
  },
  {
   "cell_type": "code",
   "execution_count": 66,
   "id": "1d49dbe5",
   "metadata": {},
   "outputs": [
    {
     "data": {
      "text/html": [
       "<div>\n",
       "<style scoped>\n",
       "    .dataframe tbody tr th:only-of-type {\n",
       "        vertical-align: middle;\n",
       "    }\n",
       "\n",
       "    .dataframe tbody tr th {\n",
       "        vertical-align: top;\n",
       "    }\n",
       "\n",
       "    .dataframe thead th {\n",
       "        text-align: right;\n",
       "    }\n",
       "</style>\n",
       "<table border=\"1\" class=\"dataframe\">\n",
       "  <thead>\n",
       "    <tr style=\"text-align: right;\">\n",
       "      <th></th>\n",
       "      <th>CustomerID</th>\n",
       "      <th>recency</th>\n",
       "      <th>frequency</th>\n",
       "      <th>monetary</th>\n",
       "      <th>R</th>\n",
       "      <th>F</th>\n",
       "      <th>M</th>\n",
       "      <th>RFM Score</th>\n",
       "      <th>Segment</th>\n",
       "    </tr>\n",
       "  </thead>\n",
       "  <tbody>\n",
       "    <tr>\n",
       "      <th>3835</th>\n",
       "      <td>13001.0</td>\n",
       "      <td>4</td>\n",
       "      <td>339</td>\n",
       "      <td>9818</td>\n",
       "      <td>4</td>\n",
       "      <td>4</td>\n",
       "      <td>4</td>\n",
       "      <td>444</td>\n",
       "      <td>new and frequent-potential</td>\n",
       "    </tr>\n",
       "    <tr>\n",
       "      <th>3834</th>\n",
       "      <td>13199.0</td>\n",
       "      <td>3</td>\n",
       "      <td>119</td>\n",
       "      <td>9817</td>\n",
       "      <td>4</td>\n",
       "      <td>4</td>\n",
       "      <td>4</td>\n",
       "      <td>444</td>\n",
       "      <td>new and frequent-potential</td>\n",
       "    </tr>\n",
       "    <tr>\n",
       "      <th>3833</th>\n",
       "      <td>15078.0</td>\n",
       "      <td>7</td>\n",
       "      <td>440</td>\n",
       "      <td>9743</td>\n",
       "      <td>4</td>\n",
       "      <td>4</td>\n",
       "      <td>4</td>\n",
       "      <td>444</td>\n",
       "      <td>new and frequent-potential</td>\n",
       "    </tr>\n",
       "    <tr>\n",
       "      <th>3832</th>\n",
       "      <td>13458.0</td>\n",
       "      <td>7</td>\n",
       "      <td>382</td>\n",
       "      <td>9646</td>\n",
       "      <td>4</td>\n",
       "      <td>4</td>\n",
       "      <td>4</td>\n",
       "      <td>444</td>\n",
       "      <td>new and frequent-potential</td>\n",
       "    </tr>\n",
       "    <tr>\n",
       "      <th>3831</th>\n",
       "      <td>14733.0</td>\n",
       "      <td>16</td>\n",
       "      <td>202</td>\n",
       "      <td>9585</td>\n",
       "      <td>4</td>\n",
       "      <td>4</td>\n",
       "      <td>4</td>\n",
       "      <td>444</td>\n",
       "      <td>new and frequent-potential</td>\n",
       "    </tr>\n",
       "  </tbody>\n",
       "</table>\n",
       "</div>"
      ],
      "text/plain": [
       "      CustomerID  recency  frequency  monetary  R  F  M RFM Score  \\\n",
       "3835     13001.0        4        339      9818  4  4  4       444   \n",
       "3834     13199.0        3        119      9817  4  4  4       444   \n",
       "3833     15078.0        7        440      9743  4  4  4       444   \n",
       "3832     13458.0        7        382      9646  4  4  4       444   \n",
       "3831     14733.0       16        202      9585  4  4  4       444   \n",
       "\n",
       "                         Segment  \n",
       "3835  new and frequent-potential  \n",
       "3834  new and frequent-potential  \n",
       "3833  new and frequent-potential  \n",
       "3832  new and frequent-potential  \n",
       "3831  new and frequent-potential  "
      ]
     },
     "execution_count": 66,
     "metadata": {},
     "output_type": "execute_result"
    }
   ],
   "source": [
    "# Customers with high frequency value\n",
    "\n",
    "rfm[rfm['F'] >= 3 ].sort_values('monetary', ascending=False).head()"
   ]
  },
  {
   "cell_type": "markdown",
   "id": "d3fe76b9",
   "metadata": {},
   "source": [
    "# Customer Segmentation Analysis Part 2"
   ]
  },
  {
   "cell_type": "code",
   "execution_count": 67,
   "id": "dba77058",
   "metadata": {},
   "outputs": [],
   "source": [
    "# Import the appropriate Libraries\n",
    "\n",
    "import pandas as pd # for dataframes\n",
    "import matplotlib.pyplot as plt # for plotting graphs\n",
    "import seaborn as sns # for plotting graphs\n",
    "import datetime as dt\n",
    "import numpy as np"
   ]
  },
  {
   "cell_type": "code",
   "execution_count": 68,
   "id": "3744da5e",
   "metadata": {},
   "outputs": [],
   "source": [
    "# Load rfm data from Part 1\n",
    "\n",
    "rfm = pd.read_csv('rfm.csv', index_col ='CustomerID')"
   ]
  },
  {
   "cell_type": "code",
   "execution_count": 69,
   "id": "16607430",
   "metadata": {},
   "outputs": [
    {
     "data": {
      "text/html": [
       "<div>\n",
       "<style scoped>\n",
       "    .dataframe tbody tr th:only-of-type {\n",
       "        vertical-align: middle;\n",
       "    }\n",
       "\n",
       "    .dataframe tbody tr th {\n",
       "        vertical-align: top;\n",
       "    }\n",
       "\n",
       "    .dataframe thead th {\n",
       "        text-align: right;\n",
       "    }\n",
       "</style>\n",
       "<table border=\"1\" class=\"dataframe\">\n",
       "  <thead>\n",
       "    <tr style=\"text-align: right;\">\n",
       "      <th></th>\n",
       "      <th>recency</th>\n",
       "      <th>frequency</th>\n",
       "      <th>monetary</th>\n",
       "    </tr>\n",
       "    <tr>\n",
       "      <th>CustomerID</th>\n",
       "      <th></th>\n",
       "      <th></th>\n",
       "      <th></th>\n",
       "    </tr>\n",
       "  </thead>\n",
       "  <tbody>\n",
       "    <tr>\n",
       "      <th>13256.0</th>\n",
       "      <td>14</td>\n",
       "      <td>1</td>\n",
       "      <td>0</td>\n",
       "    </tr>\n",
       "    <tr>\n",
       "      <th>16738.0</th>\n",
       "      <td>297</td>\n",
       "      <td>1</td>\n",
       "      <td>3</td>\n",
       "    </tr>\n",
       "    <tr>\n",
       "      <th>16454.0</th>\n",
       "      <td>44</td>\n",
       "      <td>2</td>\n",
       "      <td>6</td>\n",
       "    </tr>\n",
       "    <tr>\n",
       "      <th>14792.0</th>\n",
       "      <td>63</td>\n",
       "      <td>2</td>\n",
       "      <td>6</td>\n",
       "    </tr>\n",
       "    <tr>\n",
       "      <th>17956.0</th>\n",
       "      <td>249</td>\n",
       "      <td>1</td>\n",
       "      <td>12</td>\n",
       "    </tr>\n",
       "  </tbody>\n",
       "</table>\n",
       "</div>"
      ],
      "text/plain": [
       "            recency  frequency  monetary\n",
       "CustomerID                              \n",
       "13256.0          14          1         0\n",
       "16738.0         297          1         3\n",
       "16454.0          44          2         6\n",
       "14792.0          63          2         6\n",
       "17956.0         249          1        12"
      ]
     },
     "execution_count": 69,
     "metadata": {},
     "output_type": "execute_result"
    }
   ],
   "source": [
    "rfm.head()"
   ]
  },
  {
   "cell_type": "code",
   "execution_count": 70,
   "id": "b42f1ae5",
   "metadata": {},
   "outputs": [
    {
     "data": {
      "text/plain": [
       "<AxesSubplot:>"
      ]
     },
     "execution_count": 70,
     "metadata": {},
     "output_type": "execute_result"
    },
    {
     "data": {
      "image/png": "[encoded data removed]",
      "text/plain": [
       "<Figure size 432x288 with 1 Axes>"
      ]
     },
     "metadata": {
      "needs_background": "light"
     },
     "output_type": "display_data"
    }
   ],
   "source": [
    "# Create box plots to check for outliers\n",
    "\n",
    "rfm.boxplot()"
   ]
  },
  {
   "cell_type": "code",
   "execution_count": 71,
   "id": "ffd5fa5e",
   "metadata": {},
   "outputs": [
    {
     "name": "stdout",
     "output_type": "stream",
     "text": [
      "             recency  frequency  monetary\n",
      "CustomerID                               \n",
      "13256.0     0.795485   0.667799  0.803362\n",
      "16738.0     2.041592   0.667799  0.801337\n",
      "16454.0     0.494735   0.659217  0.799312\n",
      "14792.0     0.304260   0.659217  0.799312\n",
      "17956.0     1.560391   0.667799  0.795262\n",
      "...              ...        ...       ...\n",
      "14733.0     0.775435   1.057341  5.666188\n",
      "13458.0     0.865660   2.602242  5.707361\n",
      "15078.0     0.865660   3.100044  5.772833\n",
      "13199.0     0.905760   0.344969  5.822780\n",
      "13001.0     0.895735   2.233182  5.823455\n",
      "\n",
      "[3836 rows x 3 columns]\n"
     ]
    }
   ],
   "source": [
    "# Calculate Z scores to normalize the data\n",
    "\n",
    "from scipy import stats\n",
    "import numpy as np\n",
    "z = np.abs(stats.zscore(rfm))\n",
    "print(z)"
   ]
  },
  {
   "cell_type": "code",
   "execution_count": 72,
   "id": "a7625abe",
   "metadata": {},
   "outputs": [],
   "source": [
    "rfm_clean = rfm[(z < 3).all(axis=1)]"
   ]
  },
  {
   "cell_type": "markdown",
   "id": "6d9a5a57",
   "metadata": {},
   "source": [
    "## Q1. What is the purpose of the above code?"
   ]
  },
  {
   "cell_type": "markdown",
   "id": "5ac805b0",
   "metadata": {},
   "source": [
    "## A1. The above code is filtering out all the normalised values values of RFM which are under 3 for all the columns."
   ]
  },
  {
   "cell_type": "code",
   "execution_count": 73,
   "id": "76415e56",
   "metadata": {},
   "outputs": [
    {
     "data": {
      "text/plain": [
       "(3836, 3)"
      ]
     },
     "execution_count": 73,
     "metadata": {},
     "output_type": "execute_result"
    }
   ],
   "source": [
    "rfm.shape"
   ]
  },
  {
   "cell_type": "code",
   "execution_count": 74,
   "id": "2c1edf72",
   "metadata": {},
   "outputs": [
    {
     "data": {
      "text/plain": [
       "(3683, 3)"
      ]
     },
     "execution_count": 74,
     "metadata": {},
     "output_type": "execute_result"
    }
   ],
   "source": [
    "rfm_clean.shape"
   ]
  },
  {
   "cell_type": "markdown",
   "id": "8ca0ba06",
   "metadata": {},
   "source": [
    "## Q2. Create box plot to check for outliers with the cleaned data and comment on it. Compare it with the previous box plot."
   ]
  },
  {
   "cell_type": "code",
   "execution_count": 75,
   "id": "cde02fcf",
   "metadata": {},
   "outputs": [
    {
     "data": {
      "text/plain": [
       "<AxesSubplot:>"
      ]
     },
     "execution_count": 75,
     "metadata": {},
     "output_type": "execute_result"
    },
    {
     "data": {
      "image/png": "[encoded data removed]",
      "text/plain": [
       "<Figure size 432x288 with 1 Axes>"
      ]
     },
     "metadata": {
      "needs_background": "light"
     },
     "output_type": "display_data"
    }
   ],
   "source": [
    "# Create box plots to check for outliers\n",
    "\n",
    "rfm_clean.boxplot()"
   ]
  },
  {
   "cell_type": "markdown",
   "id": "3d1afc2e",
   "metadata": {},
   "source": [
    "## A2. After cleaning the data we see that the upper limit reduced to half at 5000 which was earlier 10000 and we see that the distribution of monetary is much more elaborate and pertains to only a described limit. "
   ]
  },
  {
   "cell_type": "markdown",
   "id": "78c732d3",
   "metadata": {},
   "source": [
    "## Q3. Create the Histogram for R, F, and M for the cleaned data. Comment on them and compare them with the previous histograms"
   ]
  },
  {
   "cell_type": "code",
   "execution_count": 76,
   "id": "0f581518",
   "metadata": {
    "scrolled": true
   },
   "outputs": [
    {
     "data": {
      "text/plain": [
       "array([[<AxesSubplot:title={'center':'recency'}>]], dtype=object)"
      ]
     },
     "execution_count": 76,
     "metadata": {},
     "output_type": "execute_result"
    },
    {
     "data": {
      "image/png": "[encoded data removed]",
      "text/plain": [
       "<Figure size 432x288 with 1 Axes>"
      ]
     },
     "metadata": {
      "needs_background": "light"
     },
     "output_type": "display_data"
    }
   ],
   "source": [
    "# Histogram for Cleaned Frequency Data (UK)\n",
    "\n",
    "rfm_clean.hist(column='recency', bins=25)"
   ]
  },
  {
   "cell_type": "markdown",
   "id": "fbb8c9ab",
   "metadata": {},
   "source": [
    "## The above plot explains customers recency and depicts that we have around 100 customers which have a recency value over 100 rest everyone is below that range."
   ]
  },
  {
   "cell_type": "code",
   "execution_count": 77,
   "id": "f1fa2d34",
   "metadata": {
    "scrolled": true
   },
   "outputs": [
    {
     "data": {
      "text/plain": [
       "array([[<AxesSubplot:title={'center':'frequency'}>]], dtype=object)"
      ]
     },
     "execution_count": 77,
     "metadata": {},
     "output_type": "execute_result"
    },
    {
     "data": {
      "image/png": "[encoded data removed]",
      "text/plain": [
       "<Figure size 432x288 with 1 Axes>"
      ]
     },
     "metadata": {
      "needs_background": "light"
     },
     "output_type": "display_data"
    }
   ],
   "source": [
    "# Histogram for Cleaned Frequency Data (UK)\n",
    "\n",
    "rfm_clean.hist(column='frequency', bins=50)"
   ]
  },
  {
   "cell_type": "markdown",
   "id": "d6539370",
   "metadata": {},
   "source": [
    "## The above plot explains that we have very few customers approximately 50 with high frequency over 200 whereas all the others are under 100."
   ]
  },
  {
   "cell_type": "code",
   "execution_count": 78,
   "id": "e4703949",
   "metadata": {
    "scrolled": true
   },
   "outputs": [
    {
     "data": {
      "text/plain": [
       "array([[<AxesSubplot:title={'center':'monetary'}>]], dtype=object)"
      ]
     },
     "execution_count": 78,
     "metadata": {},
     "output_type": "execute_result"
    },
    {
     "data": {
      "image/png": "[encoded data removed]",
      "text/plain": [
       "<Figure size 432x288 with 1 Axes>"
      ]
     },
     "metadata": {
      "needs_background": "light"
     },
     "output_type": "display_data"
    }
   ],
   "source": [
    "# Histogram for Cleaned Frequency Data (UK)\n",
    "\n",
    "rfm_clean.hist(column='monetary', bins=50)"
   ]
  },
  {
   "cell_type": "markdown",
   "id": "afa31b23",
   "metadata": {},
   "source": [
    "## The above plot describes the fact that around 1000 are the once comprising of high monetary values over 100 to over 500 whereas rest of them are all under 100. "
   ]
  },
  {
   "cell_type": "markdown",
   "id": "534205fa",
   "metadata": {},
   "source": [
    "## Perform cluster analysis using K-means clustering with the original rfm dataframe"
   ]
  },
  {
   "cell_type": "code",
   "execution_count": 79,
   "id": "ed8b6255",
   "metadata": {},
   "outputs": [],
   "source": [
    "X = rfm"
   ]
  },
  {
   "cell_type": "code",
   "execution_count": 80,
   "id": "6835f4e2",
   "metadata": {},
   "outputs": [
    {
     "data": {
      "text/html": [
       "<div>\n",
       "<style scoped>\n",
       "    .dataframe tbody tr th:only-of-type {\n",
       "        vertical-align: middle;\n",
       "    }\n",
       "\n",
       "    .dataframe tbody tr th {\n",
       "        vertical-align: top;\n",
       "    }\n",
       "\n",
       "    .dataframe thead th {\n",
       "        text-align: right;\n",
       "    }\n",
       "</style>\n",
       "<table border=\"1\" class=\"dataframe\">\n",
       "  <thead>\n",
       "    <tr style=\"text-align: right;\">\n",
       "      <th></th>\n",
       "      <th>recency</th>\n",
       "      <th>frequency</th>\n",
       "      <th>monetary</th>\n",
       "    </tr>\n",
       "    <tr>\n",
       "      <th>CustomerID</th>\n",
       "      <th></th>\n",
       "      <th></th>\n",
       "      <th></th>\n",
       "    </tr>\n",
       "  </thead>\n",
       "  <tbody>\n",
       "    <tr>\n",
       "      <th>13256.0</th>\n",
       "      <td>14</td>\n",
       "      <td>1</td>\n",
       "      <td>0</td>\n",
       "    </tr>\n",
       "    <tr>\n",
       "      <th>16738.0</th>\n",
       "      <td>297</td>\n",
       "      <td>1</td>\n",
       "      <td>3</td>\n",
       "    </tr>\n",
       "    <tr>\n",
       "      <th>16454.0</th>\n",
       "      <td>44</td>\n",
       "      <td>2</td>\n",
       "      <td>6</td>\n",
       "    </tr>\n",
       "    <tr>\n",
       "      <th>14792.0</th>\n",
       "      <td>63</td>\n",
       "      <td>2</td>\n",
       "      <td>6</td>\n",
       "    </tr>\n",
       "    <tr>\n",
       "      <th>17956.0</th>\n",
       "      <td>249</td>\n",
       "      <td>1</td>\n",
       "      <td>12</td>\n",
       "    </tr>\n",
       "  </tbody>\n",
       "</table>\n",
       "</div>"
      ],
      "text/plain": [
       "            recency  frequency  monetary\n",
       "CustomerID                              \n",
       "13256.0          14          1         0\n",
       "16738.0         297          1         3\n",
       "16454.0          44          2         6\n",
       "14792.0          63          2         6\n",
       "17956.0         249          1        12"
      ]
     },
     "execution_count": 80,
     "metadata": {},
     "output_type": "execute_result"
    }
   ],
   "source": [
    "X.head()"
   ]
  },
  {
   "cell_type": "code",
   "execution_count": 81,
   "id": "bde67b5e",
   "metadata": {},
   "outputs": [
    {
     "data": {
      "image/png": "[encoded data removed]",
      "text/plain": [
       "<Figure size 432x288 with 1 Axes>"
      ]
     },
     "metadata": {
      "needs_background": "light"
     },
     "output_type": "display_data"
    }
   ],
   "source": [
    "# Choose number of Clusters using the elbow method\n",
    "# Within cluster sum of squares (wcss)\n",
    "\n",
    "from sklearn.cluster import KMeans\n",
    "# start with 10 number of clusters\n",
    "wcss = []\n",
    "for i in range(1,10):\n",
    "    kmeans = KMeans(n_clusters =i, init = 'k-means++', max_iter =300, n_init =10, random_state =0)\n",
    "    kmeans.fit(X)\n",
    "    wcss.append(kmeans.inertia_)\n",
    "plt.plot(range(1,10), wcss)\n",
    "plt.title('The Elbow Method')\n",
    "plt.xlabel('Number of Clusters')\n",
    "plt.ylabel('WCSS')\n",
    "plt.show()"
   ]
  },
  {
   "cell_type": "code",
   "execution_count": 82,
   "id": "70dfc541",
   "metadata": {},
   "outputs": [],
   "source": [
    "# Fitting K Means to the Datatset using k = 3\n",
    "\n",
    "kmeans = KMeans(n_clusters = 3)\n",
    "y_kmeans = kmeans.fit_predict(X)"
   ]
  },
  {
   "cell_type": "code",
   "execution_count": 83,
   "id": "b57cbe51",
   "metadata": {},
   "outputs": [
    {
     "data": {
      "text/plain": [
       "array([0, 0, 0, ..., 1, 1, 1])"
      ]
     },
     "execution_count": 83,
     "metadata": {},
     "output_type": "execute_result"
    }
   ],
   "source": [
    "y_kmeans"
   ]
  },
  {
   "cell_type": "code",
   "execution_count": 84,
   "id": "852694d0",
   "metadata": {},
   "outputs": [],
   "source": [
    "# Adding cluster ID to the dataframe\n",
    "\n",
    "rfm['Cluster_ID'] = y_kmeans"
   ]
  },
  {
   "cell_type": "code",
   "execution_count": 85,
   "id": "45ed844d",
   "metadata": {},
   "outputs": [
    {
     "data": {
      "text/html": [
       "<div>\n",
       "<style scoped>\n",
       "    .dataframe tbody tr th:only-of-type {\n",
       "        vertical-align: middle;\n",
       "    }\n",
       "\n",
       "    .dataframe tbody tr th {\n",
       "        vertical-align: top;\n",
       "    }\n",
       "\n",
       "    .dataframe thead th {\n",
       "        text-align: right;\n",
       "    }\n",
       "</style>\n",
       "<table border=\"1\" class=\"dataframe\">\n",
       "  <thead>\n",
       "    <tr style=\"text-align: right;\">\n",
       "      <th></th>\n",
       "      <th>recency</th>\n",
       "      <th>frequency</th>\n",
       "      <th>monetary</th>\n",
       "      <th>Cluster_ID</th>\n",
       "    </tr>\n",
       "    <tr>\n",
       "      <th>CustomerID</th>\n",
       "      <th></th>\n",
       "      <th></th>\n",
       "      <th></th>\n",
       "      <th></th>\n",
       "    </tr>\n",
       "  </thead>\n",
       "  <tbody>\n",
       "    <tr>\n",
       "      <th>13256.0</th>\n",
       "      <td>14</td>\n",
       "      <td>1</td>\n",
       "      <td>0</td>\n",
       "      <td>0</td>\n",
       "    </tr>\n",
       "    <tr>\n",
       "      <th>16738.0</th>\n",
       "      <td>297</td>\n",
       "      <td>1</td>\n",
       "      <td>3</td>\n",
       "      <td>0</td>\n",
       "    </tr>\n",
       "    <tr>\n",
       "      <th>16454.0</th>\n",
       "      <td>44</td>\n",
       "      <td>2</td>\n",
       "      <td>6</td>\n",
       "      <td>0</td>\n",
       "    </tr>\n",
       "    <tr>\n",
       "      <th>14792.0</th>\n",
       "      <td>63</td>\n",
       "      <td>2</td>\n",
       "      <td>6</td>\n",
       "      <td>0</td>\n",
       "    </tr>\n",
       "    <tr>\n",
       "      <th>17956.0</th>\n",
       "      <td>249</td>\n",
       "      <td>1</td>\n",
       "      <td>12</td>\n",
       "      <td>0</td>\n",
       "    </tr>\n",
       "  </tbody>\n",
       "</table>\n",
       "</div>"
      ],
      "text/plain": [
       "            recency  frequency  monetary  Cluster_ID\n",
       "CustomerID                                          \n",
       "13256.0          14          1         0           0\n",
       "16738.0         297          1         3           0\n",
       "16454.0          44          2         6           0\n",
       "14792.0          63          2         6           0\n",
       "17956.0         249          1        12           0"
      ]
     },
     "execution_count": 85,
     "metadata": {},
     "output_type": "execute_result"
    }
   ],
   "source": [
    "rfm.head()"
   ]
  },
  {
   "cell_type": "markdown",
   "id": "373b8bfa",
   "metadata": {},
   "source": [
    "## Plot the graphs"
   ]
  },
  {
   "cell_type": "code",
   "execution_count": 86,
   "id": "969fe96a",
   "metadata": {},
   "outputs": [
    {
     "data": {
      "image/png": "[encoded data removed]",
      "text/plain": [
       "<Figure size 419.125x360 with 1 Axes>"
      ]
     },
     "metadata": {
      "needs_background": "light"
     },
     "output_type": "display_data"
    },
    {
     "data": {
      "image/png": "[encoded data removed]",
      "text/plain": [
       "<Figure size 419.125x360 with 1 Axes>"
      ]
     },
     "metadata": {
      "needs_background": "light"
     },
     "output_type": "display_data"
    },
    {
     "data": {
      "image/png": "[encoded data removed]",
      "text/plain": [
       "<Figure size 419.125x360 with 1 Axes>"
      ]
     },
     "metadata": {
      "needs_background": "light"
     },
     "output_type": "display_data"
    }
   ],
   "source": [
    "# Create a plot for frequency vs monetary \n",
    "\n",
    "facet = sns.lmplot(data=X, x='frequency', y='monetary', hue='Cluster_ID', \n",
    "                   fit_reg=False, legend=True, legend_out=True)\n",
    "\n",
    "# Create a plot for recency vs monetary\n",
    "\n",
    "facet2 = sns.lmplot(data=X, x='recency', y='monetary', hue='Cluster_ID', \n",
    "                   fit_reg=False, legend=True, legend_out=True)\n",
    "\n",
    "# Create a plot for recency vs frequency\n",
    "\n",
    "facet2 = sns.lmplot(data=X, x='recency', y='frequency', hue='Cluster_ID', \n",
    "                   fit_reg=False, legend=True, legend_out=True)"
   ]
  },
  {
   "cell_type": "markdown",
   "id": "7ff385a0",
   "metadata": {},
   "source": [
    "## Q4. Comment on the plots"
   ]
  },
  {
   "cell_type": "markdown",
   "id": "ef852c6e",
   "metadata": {},
   "source": [
    "## A4. From the above plots, we can see that the plots for monetary with frequency and recency have clear separation for all  clusters where as for frequeny and recency the clusters are somewhat overlapping. "
   ]
  },
  {
   "cell_type": "markdown",
   "id": "c968d568",
   "metadata": {},
   "source": [
    "## Q5. Perform Cluster Analysis with k=4"
   ]
  },
  {
   "cell_type": "code",
   "execution_count": 87,
   "id": "b9cdd71a",
   "metadata": {},
   "outputs": [
    {
     "data": {
      "image/png": "[encoded data removed]",
      "text/plain": [
       "<Figure size 432x288 with 1 Axes>"
      ]
     },
     "metadata": {
      "needs_background": "light"
     },
     "output_type": "display_data"
    }
   ],
   "source": [
    "# 4 number of clusters\n",
    "\n",
    "wcss = []\n",
    "for i in range(1,4):\n",
    "    kmeans = KMeans(n_clusters =i, init = 'k-means++', max_iter =300, n_init =10, random_state =0)\n",
    "    kmeans.fit(X)\n",
    "    wcss.append(kmeans.inertia_)\n",
    "plt.plot(range(1,4), wcss)\n",
    "plt.title('The Elbow Method')\n",
    "plt.xlabel('Number of Clusters')\n",
    "plt.ylabel('WCSS')\n",
    "plt.show()"
   ]
  },
  {
   "cell_type": "code",
   "execution_count": 88,
   "id": "e5a88cdd",
   "metadata": {},
   "outputs": [
    {
     "data": {
      "text/html": [
       "<div>\n",
       "<style scoped>\n",
       "    .dataframe tbody tr th:only-of-type {\n",
       "        vertical-align: middle;\n",
       "    }\n",
       "\n",
       "    .dataframe tbody tr th {\n",
       "        vertical-align: top;\n",
       "    }\n",
       "\n",
       "    .dataframe thead th {\n",
       "        text-align: right;\n",
       "    }\n",
       "</style>\n",
       "<table border=\"1\" class=\"dataframe\">\n",
       "  <thead>\n",
       "    <tr style=\"text-align: right;\">\n",
       "      <th></th>\n",
       "      <th>recency</th>\n",
       "      <th>frequency</th>\n",
       "      <th>monetary</th>\n",
       "      <th>Cluster_ID</th>\n",
       "    </tr>\n",
       "  </thead>\n",
       "  <tbody>\n",
       "    <tr>\n",
       "      <th>count</th>\n",
       "      <td>3836.000000</td>\n",
       "      <td>3836.000000</td>\n",
       "      <td>3836.000000</td>\n",
       "      <td>3836.000000</td>\n",
       "    </tr>\n",
       "    <tr>\n",
       "      <th>mean</th>\n",
       "      <td>93.350104</td>\n",
       "      <td>78.806830</td>\n",
       "      <td>1190.225235</td>\n",
       "      <td>0.443691</td>\n",
       "    </tr>\n",
       "    <tr>\n",
       "      <th>std</th>\n",
       "      <td>99.763562</td>\n",
       "      <td>116.527464</td>\n",
       "      <td>1481.749156</td>\n",
       "      <td>0.800397</td>\n",
       "    </tr>\n",
       "    <tr>\n",
       "      <th>min</th>\n",
       "      <td>0.000000</td>\n",
       "      <td>1.000000</td>\n",
       "      <td>0.000000</td>\n",
       "      <td>0.000000</td>\n",
       "    </tr>\n",
       "    <tr>\n",
       "      <th>25%</th>\n",
       "      <td>18.000000</td>\n",
       "      <td>16.000000</td>\n",
       "      <td>293.000000</td>\n",
       "      <td>0.000000</td>\n",
       "    </tr>\n",
       "    <tr>\n",
       "      <th>50%</th>\n",
       "      <td>51.500000</td>\n",
       "      <td>40.000000</td>\n",
       "      <td>628.000000</td>\n",
       "      <td>0.000000</td>\n",
       "    </tr>\n",
       "    <tr>\n",
       "      <th>75%</th>\n",
       "      <td>147.000000</td>\n",
       "      <td>95.000000</td>\n",
       "      <td>1476.000000</td>\n",
       "      <td>0.000000</td>\n",
       "    </tr>\n",
       "    <tr>\n",
       "      <th>max</th>\n",
       "      <td>373.000000</td>\n",
       "      <td>1677.000000</td>\n",
       "      <td>9818.000000</td>\n",
       "      <td>2.000000</td>\n",
       "    </tr>\n",
       "  </tbody>\n",
       "</table>\n",
       "</div>"
      ],
      "text/plain": [
       "           recency    frequency     monetary   Cluster_ID\n",
       "count  3836.000000  3836.000000  3836.000000  3836.000000\n",
       "mean     93.350104    78.806830  1190.225235     0.443691\n",
       "std      99.763562   116.527464  1481.749156     0.800397\n",
       "min       0.000000     1.000000     0.000000     0.000000\n",
       "25%      18.000000    16.000000   293.000000     0.000000\n",
       "50%      51.500000    40.000000   628.000000     0.000000\n",
       "75%     147.000000    95.000000  1476.000000     0.000000\n",
       "max     373.000000  1677.000000  9818.000000     2.000000"
      ]
     },
     "execution_count": 88,
     "metadata": {},
     "output_type": "execute_result"
    }
   ],
   "source": [
    "rfm.describe()"
   ]
  },
  {
   "cell_type": "code",
   "execution_count": 89,
   "id": "c8c399d7",
   "metadata": {},
   "outputs": [],
   "source": [
    "X1 = rfm_clean"
   ]
  },
  {
   "cell_type": "markdown",
   "id": "7d0882b0",
   "metadata": {},
   "source": [
    "## Q6. Perform cluster analysis with the outliers removed rfm dataframe. Follow exactly the same steps including the elbow method and plot the graphs and comment on the plots. You decide what k value you should use."
   ]
  },
  {
   "cell_type": "code",
   "execution_count": 90,
   "id": "cd049526",
   "metadata": {},
   "outputs": [
    {
     "data": {
      "image/png": "[encoded data removed]",
      "text/plain": [
       "<Figure size 432x288 with 1 Axes>"
      ]
     },
     "metadata": {
      "needs_background": "light"
     },
     "output_type": "display_data"
    }
   ],
   "source": [
    "# 4 number of clusters\n",
    "\n",
    "wcss = []\n",
    "for i in range(1,4):\n",
    "    kmeans = KMeans(n_clusters = i, init = 'k-means++', max_iter =300, n_init =10, random_state =0)\n",
    "    kmeans.fit(X1)\n",
    "    wcss.append(kmeans.inertia_)\n",
    "plt.plot(range(1,4), wcss)\n",
    "plt.title('The Elbow Method')\n",
    "plt.xlabel('Number of Clusters')\n",
    "plt.ylabel('WCSS')\n",
    "plt.show()"
   ]
  },
  {
   "cell_type": "code",
   "execution_count": 91,
   "id": "c8a35bf6",
   "metadata": {},
   "outputs": [],
   "source": [
    "# Fitting K Means to the Datatset using k = 2\n",
    "\n",
    "kmeans = KMeans(n_clusters = 2)\n",
    "y_kmeans = kmeans.fit_predict(X1)"
   ]
  },
  {
   "cell_type": "code",
   "execution_count": 92,
   "id": "81264672",
   "metadata": {},
   "outputs": [],
   "source": [
    "# Adding cluster ID to the dataframe\n",
    "\n",
    "rfm_clean['Cluster_ID'] = y_kmeans"
   ]
  },
  {
   "cell_type": "code",
   "execution_count": 93,
   "id": "68f85749",
   "metadata": {},
   "outputs": [
    {
     "data": {
      "image/png": "[encoded data removed]",
      "text/plain": [
       "<Figure size 419.125x360 with 1 Axes>"
      ]
     },
     "metadata": {
      "needs_background": "light"
     },
     "output_type": "display_data"
    },
    {
     "data": {
      "image/png": "[encoded data removed]",
      "text/plain": [
       "<Figure size 419.125x360 with 1 Axes>"
      ]
     },
     "metadata": {
      "needs_background": "light"
     },
     "output_type": "display_data"
    },
    {
     "data": {
      "image/png": "[encoded data removed]",
      "text/plain": [
       "<Figure size 419.125x360 with 1 Axes>"
      ]
     },
     "metadata": {
      "needs_background": "light"
     },
     "output_type": "display_data"
    }
   ],
   "source": [
    "# Create a plot for frequency vs monetary \n",
    "\n",
    "facet = sns.lmplot(data=X1, x='frequency', y='monetary', hue='Cluster_ID', \n",
    "                   fit_reg=False, legend=True, legend_out=True)\n",
    "\n",
    "# Create a plot for recency vs monetary\n",
    "\n",
    "facet2 = sns.lmplot(data=X1, x='recency', y='monetary', hue='Cluster_ID', \n",
    "                   fit_reg=False, legend=True, legend_out=True)\n",
    "\n",
    "# Create a plot for recency vs frequency\n",
    "\n",
    "facet2 = sns.lmplot(data=X1, x='recency', y='frequency', hue='Cluster_ID', \n",
    "                   fit_reg=False, legend=True, legend_out=True)"
   ]
  },
  {
   "cell_type": "markdown",
   "id": "e195d10d",
   "metadata": {},
   "source": [
    "## From the above plots, we can see that the plots for monetary with frequency and recency have clear separation for all  clusters where as for frequeny and recency the clusters are somewhat overlapping. "
   ]
  },
  {
   "cell_type": "markdown",
   "id": "b8a0f1ec",
   "metadata": {},
   "source": [
    "## Calculate mean for every cluster"
   ]
  },
  {
   "cell_type": "code",
   "execution_count": 94,
   "id": "2ec8e106",
   "metadata": {},
   "outputs": [
    {
     "data": {
      "text/html": [
       "<div>\n",
       "<style scoped>\n",
       "    .dataframe tbody tr th:only-of-type {\n",
       "        vertical-align: middle;\n",
       "    }\n",
       "\n",
       "    .dataframe tbody tr th {\n",
       "        vertical-align: top;\n",
       "    }\n",
       "\n",
       "    .dataframe thead th {\n",
       "        text-align: right;\n",
       "    }\n",
       "</style>\n",
       "<table border=\"1\" class=\"dataframe\">\n",
       "  <thead>\n",
       "    <tr style=\"text-align: right;\">\n",
       "      <th></th>\n",
       "      <th>recency</th>\n",
       "      <th>frequency</th>\n",
       "      <th>monetary</th>\n",
       "    </tr>\n",
       "    <tr>\n",
       "      <th>Cluster_ID</th>\n",
       "      <th></th>\n",
       "      <th></th>\n",
       "      <th></th>\n",
       "    </tr>\n",
       "  </thead>\n",
       "  <tbody>\n",
       "    <tr>\n",
       "      <th>0</th>\n",
       "      <td>109.436610</td>\n",
       "      <td>44.656074</td>\n",
       "      <td>575.161205</td>\n",
       "    </tr>\n",
       "    <tr>\n",
       "      <th>1</th>\n",
       "      <td>36.984894</td>\n",
       "      <td>152.808157</td>\n",
       "      <td>2893.892749</td>\n",
       "    </tr>\n",
       "  </tbody>\n",
       "</table>\n",
       "</div>"
      ],
      "text/plain": [
       "               recency   frequency     monetary\n",
       "Cluster_ID                                     \n",
       "0           109.436610   44.656074   575.161205\n",
       "1            36.984894  152.808157  2893.892749"
      ]
     },
     "execution_count": 94,
     "metadata": {},
     "output_type": "execute_result"
    }
   ],
   "source": [
    "for i in range(2): \n",
    "    rfm_clean_mean = rfm_clean.groupby(['Cluster_ID']).mean()\n",
    "\n",
    "rfm_clean_mean"
   ]
  },
  {
   "cell_type": "markdown",
   "id": "a3aad9d8",
   "metadata": {},
   "source": [
    "## Perform cluster analysis using hierarchical clustering with the cleaned rfm dataframe"
   ]
  },
  {
   "cell_type": "code",
   "execution_count": 95,
   "id": "59637b2e",
   "metadata": {},
   "outputs": [],
   "source": [
    "# Import the libraries\n",
    "\n",
    "import scipy.cluster.hierarchy as sch"
   ]
  },
  {
   "cell_type": "code",
   "execution_count": 96,
   "id": "005f8cd6",
   "metadata": {},
   "outputs": [
    {
     "data": {
      "image/png": "[encoded data removed]",
      "text/plain": [
       "<Figure size 432x288 with 1 Axes>"
      ]
     },
     "metadata": {
      "needs_background": "light"
     },
     "output_type": "display_data"
    }
   ],
   "source": [
    "# Build a dendrogram using the minimum variance method\n",
    "\n",
    "dendrogram = sch.dendrogram(sch.linkage(X1, method = 'ward'))\n",
    "plt.title('Dendrogram')\n",
    "plt.xlabel('Customers')\n",
    "plt.ylabel('Euclidean distances')\n",
    "plt.show()"
   ]
  },
  {
   "cell_type": "markdown",
   "id": "8d7d90a7",
   "metadata": {},
   "source": [
    "## Identify the clusters based on dendrogram"
   ]
  },
  {
   "cell_type": "code",
   "execution_count": 97,
   "id": "a38d7557",
   "metadata": {},
   "outputs": [],
   "source": [
    "# Train the hierarchical clustering model on the dataset\n",
    "\n",
    "from sklearn.cluster import AgglomerativeClustering\n",
    "hc = AgglomerativeClustering(n_clusters = 2, affinity = 'euclidean', linkage = 'ward')\n",
    "y_hc = hc.fit_predict(X1)"
   ]
  },
  {
   "cell_type": "code",
   "execution_count": 98,
   "id": "9b5eaefc",
   "metadata": {},
   "outputs": [],
   "source": [
    "X1['Cluster_ID'] = y_hc"
   ]
  },
  {
   "cell_type": "code",
   "execution_count": 99,
   "id": "12bc17fe",
   "metadata": {},
   "outputs": [
    {
     "data": {
      "text/html": [
       "<div>\n",
       "<style scoped>\n",
       "    .dataframe tbody tr th:only-of-type {\n",
       "        vertical-align: middle;\n",
       "    }\n",
       "\n",
       "    .dataframe tbody tr th {\n",
       "        vertical-align: top;\n",
       "    }\n",
       "\n",
       "    .dataframe thead th {\n",
       "        text-align: right;\n",
       "    }\n",
       "</style>\n",
       "<table border=\"1\" class=\"dataframe\">\n",
       "  <thead>\n",
       "    <tr style=\"text-align: right;\">\n",
       "      <th></th>\n",
       "      <th>recency</th>\n",
       "      <th>frequency</th>\n",
       "      <th>monetary</th>\n",
       "      <th>Cluster_ID</th>\n",
       "    </tr>\n",
       "    <tr>\n",
       "      <th>CustomerID</th>\n",
       "      <th></th>\n",
       "      <th></th>\n",
       "      <th></th>\n",
       "      <th></th>\n",
       "    </tr>\n",
       "  </thead>\n",
       "  <tbody>\n",
       "    <tr>\n",
       "      <th>13256.0</th>\n",
       "      <td>14</td>\n",
       "      <td>1</td>\n",
       "      <td>0</td>\n",
       "      <td>1</td>\n",
       "    </tr>\n",
       "    <tr>\n",
       "      <th>16738.0</th>\n",
       "      <td>297</td>\n",
       "      <td>1</td>\n",
       "      <td>3</td>\n",
       "      <td>1</td>\n",
       "    </tr>\n",
       "    <tr>\n",
       "      <th>16454.0</th>\n",
       "      <td>44</td>\n",
       "      <td>2</td>\n",
       "      <td>6</td>\n",
       "      <td>1</td>\n",
       "    </tr>\n",
       "    <tr>\n",
       "      <th>14792.0</th>\n",
       "      <td>63</td>\n",
       "      <td>2</td>\n",
       "      <td>6</td>\n",
       "      <td>1</td>\n",
       "    </tr>\n",
       "    <tr>\n",
       "      <th>17956.0</th>\n",
       "      <td>249</td>\n",
       "      <td>1</td>\n",
       "      <td>12</td>\n",
       "      <td>1</td>\n",
       "    </tr>\n",
       "  </tbody>\n",
       "</table>\n",
       "</div>"
      ],
      "text/plain": [
       "            recency  frequency  monetary  Cluster_ID\n",
       "CustomerID                                          \n",
       "13256.0          14          1         0           1\n",
       "16738.0         297          1         3           1\n",
       "16454.0          44          2         6           1\n",
       "14792.0          63          2         6           1\n",
       "17956.0         249          1        12           1"
      ]
     },
     "execution_count": 99,
     "metadata": {},
     "output_type": "execute_result"
    }
   ],
   "source": [
    "X1.head()"
   ]
  },
  {
   "cell_type": "markdown",
   "id": "bb61986b",
   "metadata": {},
   "source": [
    "## Q7. Create all the three plots again. Do you observe any differences from k-means clustering method"
   ]
  },
  {
   "cell_type": "code",
   "execution_count": 100,
   "id": "ec96d1e1",
   "metadata": {
    "scrolled": true
   },
   "outputs": [
    {
     "data": {
      "image/png": "[encoded data removed]",
      "text/plain": [
       "<Figure size 419.125x360 with 1 Axes>"
      ]
     },
     "metadata": {
      "needs_background": "light"
     },
     "output_type": "display_data"
    },
    {
     "data": {
      "image/png": "[encoded data removed]",
      "text/plain": [
       "<Figure size 419.125x360 with 1 Axes>"
      ]
     },
     "metadata": {
      "needs_background": "light"
     },
     "output_type": "display_data"
    },
    {
     "data": {
      "image/png": "[encoded data removed]",
      "text/plain": [
       "<Figure size 419.125x360 with 1 Axes>"
      ]
     },
     "metadata": {
      "needs_background": "light"
     },
     "output_type": "display_data"
    }
   ],
   "source": [
    "# Create a plot for frequency vs monetary \n",
    "\n",
    "facet = sns.lmplot(data=X1, x='frequency', y='monetary', hue='Cluster_ID', \n",
    "                   fit_reg=False, legend=True, legend_out=True)\n",
    "\n",
    "# Create a plot for recency vs monetary\n",
    "\n",
    "facet2 = sns.lmplot(data=X1, x='recency', y='monetary', hue='Cluster_ID', \n",
    "                   fit_reg=False, legend=True, legend_out=True)\n",
    "\n",
    "# Create a plot for recency vs frequency\n",
    "\n",
    "facet2 = sns.lmplot(data=X1, x='recency', y='frequency', hue='Cluster_ID', \n",
    "                   fit_reg=False, legend=True, legend_out=True)"
   ]
  },
  {
   "cell_type": "markdown",
   "id": "6a9df64c",
   "metadata": {},
   "source": [
    "## The difference we observe between k fold and above plots is that there are only 2 clusters formed in the later where as in K folds we can have 'k' number of clusters."
   ]
  },
  {
   "cell_type": "markdown",
   "id": "8b041dca",
   "metadata": {},
   "source": [
    "## Evaluating clustering"
   ]
  },
  {
   "cell_type": "code",
   "execution_count": 101,
   "id": "bb1eb8db",
   "metadata": {},
   "outputs": [],
   "source": [
    "# Import libraries\n",
    "\n",
    "from sklearn import cluster\n",
    "from sklearn import metrics"
   ]
  },
  {
   "cell_type": "code",
   "execution_count": 102,
   "id": "bd7c0aeb",
   "metadata": {},
   "outputs": [],
   "source": [
    "# Calculate Silhouette score for different cluster values\n",
    "\n",
    "krange = list(range(2,5))\n",
    "avg_silhouettes = []\n",
    "for n in krange:\n",
    "  model = cluster.KMeans(n_clusters=n, random_state=10)\n",
    "  cluster_assignments = model.fit_predict(X1)\n",
    "\n",
    "  silhouette_avg = metrics.silhouette_score(X1, cluster_assignments)\n",
    "  avg_silhouettes.append(silhouette_avg)"
   ]
  },
  {
   "cell_type": "code",
   "execution_count": 103,
   "id": "b21fb595",
   "metadata": {},
   "outputs": [
    {
     "data": {
      "image/png": "[encoded data removed]",
      "text/plain": [
       "<Figure size 432x288 with 1 Axes>"
      ]
     },
     "metadata": {
      "needs_background": "light"
     },
     "output_type": "display_data"
    }
   ],
   "source": [
    "# PLot the score\n",
    "\n",
    "plt.plot(krange, avg_silhouettes)\n",
    "plt.xlabel(\"$K$\")\n",
    "plt.ylabel(\"Average Silhouette Score\")\n",
    "plt.show()"
   ]
  }
 ],
 "metadata": {
  "kernelspec": {
   "display_name": "Python 3 (ipykernel)",
   "language": "python",
   "name": "python3"
  },
  "language_info": {
   "codemirror_mode": {
    "name": "ipython",
    "version": 3
   },
   "file_extension": ".py",
   "mimetype": "text/x-python",
   "name": "python",
   "nbconvert_exporter": "python",
   "pygments_lexer": "ipython3",
   "version": "3.8.11"
  }
 },
 "nbformat": 4,
 "nbformat_minor": 5
}
